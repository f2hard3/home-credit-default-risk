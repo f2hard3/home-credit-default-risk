{
 "cells": [
  {
   "cell_type": "code",
   "execution_count": 3,
   "metadata": {},
   "outputs": [],
   "source": [
    "import numpy as np\n",
    "import pandas as pd\n",
    "import gc\n",
    "import time\n",
    "import matplotlib.pyplot as plt\n",
    "import seaborn as sns"
   ]
  },
  {
   "cell_type": "code",
   "execution_count": 5,
   "metadata": {},
   "outputs": [],
   "source": [
    "def get_dataset():\n",
    "    app_train = pd.read_csv('data/application_train.csv')\n",
    "    app_test = pd.read_csv('data/application_test.csv')\n",
    "    apps = pd.concat([app_train, app_test])\n",
    "    prev = pd.read_csv('data/previous_application.csv')\n",
    "\n",
    "    return apps, prev\n",
    "\n",
    "apps, prev = get_dataset()\n",
    "    "
   ]
  },
  {
   "cell_type": "code",
   "execution_count": 6,
   "metadata": {},
   "outputs": [],
   "source": [
    "def get_apps_processed(apps):\n",
    "    \n",
    "    # EXT_SOURCE_X FEATURE 가공\n",
    "    apps['APPS_EXT_SOURCE_MEAN'] = apps[['EXT_SOURCE_1', 'EXT_SOURCE_2', 'EXT_SOURCE_3']].mean(axis=1)\n",
    "    apps['APPS_EXT_SOURCE_STD'] = apps[['EXT_SOURCE_1', 'EXT_SOURCE_2', 'EXT_SOURCE_3']].std(axis=1)\n",
    "    apps['APPS_EXT_SOURCE_STD'] = apps['APPS_EXT_SOURCE_STD'].fillna(apps['APPS_EXT_SOURCE_STD'].mean())\n",
    "    \n",
    "    # AMT_CREDIT 비율로 Feature 가공\n",
    "    apps['APPS_ANNUITY_CREDIT_RATIO'] = apps['AMT_ANNUITY']/apps['AMT_CREDIT']\n",
    "    apps['APPS_GOODS_CREDIT_RATIO'] = apps['AMT_GOODS_PRICE']/apps['AMT_CREDIT']\n",
    "    \n",
    "    # AMT_INCOME_TOTAL 비율로 Feature 가공\n",
    "    apps['APPS_ANNUITY_INCOME_RATIO'] = apps['AMT_ANNUITY']/apps['AMT_INCOME_TOTAL']\n",
    "    apps['APPS_CREDIT_INCOME_RATIO'] = apps['AMT_CREDIT']/apps['AMT_INCOME_TOTAL']\n",
    "    apps['APPS_GOODS_INCOME_RATIO'] = apps['AMT_GOODS_PRICE']/apps['AMT_INCOME_TOTAL']\n",
    "    apps['APPS_CNT_FAM_INCOME_RATIO'] = apps['AMT_INCOME_TOTAL']/apps['CNT_FAM_MEMBERS']\n",
    "    \n",
    "    # DAYS_BIRTH, DAYS_EMPLOYED 비율로 Feature 가공\n",
    "    apps['APPS_EMPLOYED_BIRTH_RATIO'] = apps['DAYS_EMPLOYED']/apps['DAYS_BIRTH']\n",
    "    apps['APPS_INCOME_EMPLOYED_RATIO'] = apps['AMT_INCOME_TOTAL']/apps['DAYS_EMPLOYED']\n",
    "    apps['APPS_INCOME_BIRTH_RATIO'] = apps['AMT_INCOME_TOTAL']/apps['DAYS_BIRTH']\n",
    "    apps['APPS_CAR_BIRTH_RATIO'] = apps['OWN_CAR_AGE'] / apps['DAYS_BIRTH']\n",
    "    apps['APPS_CAR_EMPLOYED_RATIO'] = apps['OWN_CAR_AGE'] / apps['DAYS_EMPLOYED']\n",
    "    \n",
    "    return apps"
   ]
  },
  {
   "cell_type": "code",
   "execution_count": 7,
   "metadata": {},
   "outputs": [],
   "source": [
    "from sklearn.model_selection import train_test_split\n",
    "from lightgbm import LGBMClassifier\n",
    "\n",
    "def get_prev_processed(prev):\n",
    "    # 대출 신청 금액과 실제 대출액/대출 상품금액 차이 및 비율\n",
    "    prev['PREV_CREDIT_DIFF'] = prev['AMT_APPLICATION'] - prev['AMT_CREDIT']\n",
    "    prev['PREV_GOODS_DIFF'] = prev['AMT_APPLICATION'] - prev['AMT_GOODS_PRICE']\n",
    "    prev['PREV_CREDIT_APPL_RATIO'] = prev['AMT_CREDIT']/prev['AMT_APPLICATION']\n",
    "    # prev['PREV_ANNUITY_APPL_RATIO'] = prev['AMT_ANNUITY']/prev['AMT_APPLICATION']\n",
    "    prev['PREV_GOODS_APPL_RATIO'] = prev['AMT_GOODS_PRICE']/prev['AMT_APPLICATION']\n",
    "    \n",
    "    prev['DAYS_FIRST_DRAWING'].replace(365243, np.nan, inplace= True)\n",
    "    prev['DAYS_FIRST_DUE'].replace(365243, np.nan, inplace= True)\n",
    "    prev['DAYS_LAST_DUE_1ST_VERSION'].replace(365243, np.nan, inplace= True)\n",
    "    prev['DAYS_LAST_DUE'].replace(365243, np.nan, inplace= True)\n",
    "    prev['DAYS_TERMINATION'].replace(365243, np.nan, inplace= True)\n",
    "    # 첫번째 만기일과 마지막 만기일까지의 기간\n",
    "    prev['PREV_DAYS_LAST_DUE_DIFF'] = prev['DAYS_LAST_DUE_1ST_VERSION'] - prev['DAYS_LAST_DUE']\n",
    "    # 매월 납부 금액과 납부 횟수 곱해서 전체 납부 금액 구함. \n",
    "    all_pay = prev['AMT_ANNUITY'] * prev['CNT_PAYMENT']\n",
    "    # 전체 납부 금액 대비 AMT_CREDIT 비율을 구하고 여기에 다시 납부횟수로 나누어서 이자율 계산. \n",
    "    prev['PREV_INTERESTS_RATE'] = (all_pay/prev['AMT_CREDIT'] - 1)/prev['CNT_PAYMENT']\n",
    "        \n",
    "    return prev\n",
    "    \n",
    "    \n",
    "def get_prev_amt_agg(prev):\n",
    "    # 새롭게 생성된 대출 신청액 대비 다른 금액 차이 및 비율로 aggregation 수행. \n",
    "    agg_dict = {\n",
    "         # 기존 컬럼. \n",
    "        'SK_ID_CURR':['count'],\n",
    "        'AMT_CREDIT':['mean', 'max', 'sum'],\n",
    "        'AMT_ANNUITY':['mean', 'max', 'sum'], \n",
    "        'AMT_APPLICATION':['mean', 'max', 'sum'],\n",
    "        'AMT_DOWN_PAYMENT':['mean', 'max', 'sum'],\n",
    "        'AMT_GOODS_PRICE':['mean', 'max', 'sum'],\n",
    "        'RATE_DOWN_PAYMENT': ['min', 'max', 'mean'],\n",
    "        'DAYS_DECISION': ['min', 'max', 'mean'],\n",
    "        'CNT_PAYMENT': ['mean', 'sum'],\n",
    "        # 가공 컬럼\n",
    "        'PREV_CREDIT_DIFF':['mean', 'max', 'sum'], \n",
    "        'PREV_CREDIT_APPL_RATIO':['mean', 'max'],\n",
    "        'PREV_GOODS_DIFF':['mean', 'max', 'sum'],\n",
    "        'PREV_GOODS_APPL_RATIO':['mean', 'max'],\n",
    "        'PREV_DAYS_LAST_DUE_DIFF':['mean', 'max', 'sum'],\n",
    "        'PREV_INTERESTS_RATE':['mean', 'max']\n",
    "    }\n",
    "\n",
    "    prev_group = prev.groupby('SK_ID_CURR')\n",
    "    prev_amt_agg = prev_group.agg(agg_dict)\n",
    "\n",
    "    # multi index 컬럼을 '_'로 연결하여 컬럼명 변경\n",
    "    prev_amt_agg.columns = [\"PREV_\"+ \"_\".join(x).upper() for x in prev_amt_agg.columns.ravel()]\n",
    "    \n",
    "    return prev_amt_agg\n",
    "\n",
    "def get_prev_refused_appr_agg(prev):\n",
    "    # 원래 groupby 컬럼 + 세부 기준 컬럼으로 groupby 수행. 세분화된 레벨로 aggregation 수행 한 뒤에 unstack()으로 컬럼레벨로 변형. \n",
    "    prev_refused_appr_group = prev[prev['NAME_CONTRACT_STATUS'].isin(['Approved', 'Refused'])].groupby([ 'SK_ID_CURR', 'NAME_CONTRACT_STATUS'])\n",
    "    prev_refused_appr_agg = prev_refused_appr_group['SK_ID_CURR'].count().unstack()\n",
    "    # 컬럼명 변경. \n",
    "    prev_refused_appr_agg.columns = ['PREV_APPROVED_COUNT', 'PREV_REFUSED_COUNT' ]\n",
    "    # NaN값은 모두 0으로 변경. \n",
    "    prev_refused_appr_agg = prev_refused_appr_agg.fillna(0)\n",
    "    \n",
    "    return prev_refused_appr_agg\n",
    "\n",
    "    \n",
    "\n",
    "def get_prev_agg(prev):\n",
    "    prev = get_prev_processed(prev)\n",
    "    prev_amt_agg = get_prev_amt_agg(prev)\n",
    "    prev_refused_appr_agg = get_prev_refused_appr_agg(prev)\n",
    "    \n",
    "    # prev_amt_agg와 조인. \n",
    "    prev_agg = prev_amt_agg.merge(prev_refused_appr_agg, on='SK_ID_CURR', how='left')\n",
    "    # SK_ID_CURR별 과거 대출건수 대비 APPROVED_COUNT 및 REFUSED_COUNT 비율 생성. \n",
    "    prev_agg['PREV_REFUSED_RATIO'] = prev_agg['PREV_REFUSED_COUNT']/prev_agg['PREV_SK_ID_CURR_COUNT']\n",
    "    prev_agg['PREV_APPROVED_RATIO'] = prev_agg['PREV_APPROVED_COUNT']/prev_agg['PREV_SK_ID_CURR_COUNT']\n",
    "    # 'PREV_REFUSED_COUNT', 'PREV_APPROVED_COUNT' 컬럼 drop \n",
    "    prev_agg = prev_agg.drop(['PREV_REFUSED_COUNT', 'PREV_APPROVED_COUNT'], axis=1)\n",
    "    \n",
    "    return prev_agg\n",
    "\n",
    "def get_apps_all_with_prev_agg(apps, prev):\n",
    "    apps_all =  get_apps_processed(apps)\n",
    "    prev_agg = get_prev_agg(prev)\n",
    "    print('prev_agg shape:', prev_agg.shape)\n",
    "    print('apps_all before merge shape:', apps_all.shape)\n",
    "    apps_all = apps_all.merge(prev_agg, on='SK_ID_CURR', how='left')\n",
    "    print('apps_all after merge with prev_agg shape:', apps_all.shape)\n",
    "    \n",
    "    return apps_all\n",
    "\n",
    "def get_apps_all_encoded(apps_all):\n",
    "    object_columns = apps_all.dtypes[apps_all.dtypes == 'object'].index.tolist()\n",
    "    for column in object_columns:\n",
    "        apps_all[column] = pd.factorize(apps_all[column])[0]\n",
    "    \n",
    "    return apps_all\n",
    "\n",
    "def get_apps_all_train_test(apps_all):\n",
    "    apps_all_train = apps_all[~apps_all['TARGET'].isnull()]\n",
    "    apps_all_test = apps_all[apps_all['TARGET'].isnull()]\n",
    "\n",
    "    apps_all_test = apps_all_test.drop('TARGET', axis=1)\n",
    "    \n",
    "    return apps_all_train, apps_all_test\n",
    "    \n",
    "def train_apps_all(apps_all_train):\n",
    "    ftr_app = apps_all_train.drop(['SK_ID_CURR', 'TARGET'], axis=1)\n",
    "    target_app = apps_all_train['TARGET']\n",
    "\n",
    "    train_x, valid_x, train_y, valid_y = train_test_split(ftr_app, target_app, test_size=0.3, random_state=2020)\n",
    "    print('train shape:', train_x.shape, 'valid shape:', valid_x.shape)\n",
    "    clf = LGBMClassifier(\n",
    "                nthread=4,\n",
    "                n_estimators=2000,\n",
    "                learning_rate=0.01,\n",
    "                num_leaves=32,\n",
    "                colsample_bytree=0.8,\n",
    "                subsample=0.8,\n",
    "                max_depth=8,\n",
    "                reg_alpha=0.04,\n",
    "                reg_lambda=0.07,\n",
    "                min_child_weight=40,\n",
    "                silent=-1,\n",
    "                verbose=-1,\n",
    "                )\n",
    "\n",
    "    clf.fit(train_x, train_y, eval_set=[(train_x, train_y), (valid_x, valid_y)], eval_metric= 'auc', verbose= 100, \n",
    "                early_stopping_rounds= 100)\n",
    "    \n",
    "    return clf"
   ]
  },
  {
   "cell_type": "code",
   "execution_count": 8,
   "metadata": {},
   "outputs": [
    {
     "name": "stderr",
     "output_type": "stream",
     "text": [
      "/var/folders/7d/g6cftgkn73xdpn_wddqnr2y80000gn/T/ipykernel_9737/1480129953.py:53: FutureWarning: Index.ravel returning ndarray is deprecated; in a future version this will return a view on self.\n",
      "  prev_amt_agg.columns = [\"PREV_\"+ \"_\".join(x).upper() for x in prev_amt_agg.columns.ravel()]\n"
     ]
    },
    {
     "name": "stdout",
     "output_type": "stream",
     "text": [
      "prev_agg shape: (338857, 41)\n",
      "apps_all before merge shape: (356255, 135)\n",
      "apps_all after merge with prev_agg shape: (356255, 176)\n"
     ]
    }
   ],
   "source": [
    "apps_all = get_apps_all_with_prev_agg(apps, prev)\n",
    "apps_all = get_apps_all_encoded(apps_all)\n",
    "apps_all_train, apps_all_test = get_apps_all_train_test(apps_all)\n",
    "ftr_app = apps_all_train.drop(['SK_ID_CURR', 'TARGET'], axis=1)\n",
    "target_app = apps_all_train['TARGET']\n",
    "train_x, valid_x, train_y, valid_y = train_test_split(ftr_app, target_app, test_size=0.3, random_state=2020)\n"
   ]
  },
  {
   "cell_type": "code",
   "execution_count": 9,
   "metadata": {},
   "outputs": [],
   "source": [
    "from bayes_opt import BayesianOptimization\n",
    "from sklearn.metrics import roc_auc_score\n",
    "from lightgbm import LGBMClassifier"
   ]
  },
  {
   "cell_type": "code",
   "execution_count": 10,
   "metadata": {},
   "outputs": [],
   "source": [
    "bayesian_params = {\n",
    "  'max_depth': (6, 16),\n",
    "  'num_leaves': (24, 64),\n",
    "  'min_child_samples': (10, 200),\n",
    "  'min_child_weight': (1, 50),\n",
    "  'subsample': (0.5, 1),\n",
    "  'colsample_bytree': (0.5, 1),\n",
    "  'max_bin': (10, 500),\n",
    "  'reg_lambda': (0.001, 10),\n",
    "  'reg_alpha': (0.01, 50)\n",
    "}"
   ]
  },
  {
   "cell_type": "code",
   "execution_count": 11,
   "metadata": {},
   "outputs": [],
   "source": [
    "def lgb_roc_eval(max_depth, num_leaves, min_child_samples, min_child_weight, subsample, \n",
    "                colsample_bytree, max_bin, reg_lambda, reg_alpha):\n",
    "    params = {\n",
    "      'n_estimators': 500,\n",
    "      'learning_rate': 0.02,\n",
    "      'max_depth': int(round(max_depth)),\n",
    "      'num_leaves': int(round(num_leaves)),\n",
    "      'min_child_samples': int(round(min_child_samples)),\n",
    "      'min_child_weight': int(round(min_child_weight)),\n",
    "      'subsample': max(min(subsample, 1), 0),\n",
    "      'colsample_bytree': max(min(colsample_bytree, 1), 0),\n",
    "      'max_bin': max(int(round(max_bin)), 10),\n",
    "      'reg_lambda': max(reg_lambda, 0),\n",
    "      'reg_alpha': max(reg_alpha, 0),\n",
    "    }\n",
    "\n",
    "    lgb_model = LGBMClassifier(**params)\n",
    "    lgb_model.fit(train_x, train_y, eval_set=[(train_x, train_y), (valid_x, valid_y)], eval_metric='auc',\n",
    "                  verbose=100, early_stopping_rounds=100)\n",
    "    valid_proba = lgb_model.predict_proba(valid_x)[:, 1]\n",
    "    roc_auc = roc_auc_score(valid_y, valid_proba)\n",
    "\n",
    "    return roc_auc\n"
   ]
  },
  {
   "cell_type": "code",
   "execution_count": 13,
   "metadata": {},
   "outputs": [
    {
     "name": "stdout",
     "output_type": "stream",
     "text": [
      "|   iter    |  target   | colsam... |  max_bin  | max_depth | min_ch... | min_ch... | num_le... | reg_alpha | reg_la... | subsample |\n",
      "-------------------------------------------------------------------------------------------------------------------------------------\n"
     ]
    },
    {
     "name": "stderr",
     "output_type": "stream",
     "text": [
      "/usr/local/anaconda3/lib/python3.9/site-packages/lightgbm/sklearn.py:726: UserWarning: 'early_stopping_rounds' argument is deprecated and will be removed in a future release of LightGBM. Pass 'early_stopping()' callback via 'callbacks' argument instead.\n",
      "  _log_warning(\"'early_stopping_rounds' argument is deprecated and will be removed in a future release of LightGBM. \"\n",
      "/usr/local/anaconda3/lib/python3.9/site-packages/lightgbm/sklearn.py:736: UserWarning: 'verbose' argument is deprecated and will be removed in a future release of LightGBM. Pass 'log_evaluation()' callback via 'callbacks' argument instead.\n",
      "  _log_warning(\"'verbose' argument is deprecated and will be removed in a future release of LightGBM. \"\n"
     ]
    },
    {
     "name": "stdout",
     "output_type": "stream",
     "text": [
      "[100]\ttraining's auc: 0.772707\ttraining's binary_logloss: 0.244888\tvalid_1's auc: 0.756927\tvalid_1's binary_logloss: 0.248271\n",
      "[200]\ttraining's auc: 0.792101\ttraining's binary_logloss: 0.236721\tvalid_1's auc: 0.767671\tvalid_1's binary_logloss: 0.243653\n",
      "[300]\ttraining's auc: 0.805367\ttraining's binary_logloss: 0.231617\tvalid_1's auc: 0.772657\tvalid_1's binary_logloss: 0.241864\n",
      "[400]\ttraining's auc: 0.816192\ttraining's binary_logloss: 0.227558\tvalid_1's auc: 0.775109\tvalid_1's binary_logloss: 0.240987\n",
      "[500]\ttraining's auc: 0.825867\ttraining's binary_logloss: 0.223969\tvalid_1's auc: 0.776778\tvalid_1's binary_logloss: 0.240419\n",
      "| \u001b[0m 1       \u001b[0m | \u001b[0m 0.7768  \u001b[0m | \u001b[0m 0.7744  \u001b[0m | \u001b[0m 360.4   \u001b[0m | \u001b[0m 12.03   \u001b[0m | \u001b[0m 113.5   \u001b[0m | \u001b[0m 21.76   \u001b[0m | \u001b[0m 49.84   \u001b[0m | \u001b[0m 21.88   \u001b[0m | \u001b[0m 8.918   \u001b[0m | \u001b[0m 0.9818  \u001b[0m |\n"
     ]
    },
    {
     "name": "stderr",
     "output_type": "stream",
     "text": [
      "/usr/local/anaconda3/lib/python3.9/site-packages/lightgbm/sklearn.py:726: UserWarning: 'early_stopping_rounds' argument is deprecated and will be removed in a future release of LightGBM. Pass 'early_stopping()' callback via 'callbacks' argument instead.\n",
      "  _log_warning(\"'early_stopping_rounds' argument is deprecated and will be removed in a future release of LightGBM. \"\n",
      "/usr/local/anaconda3/lib/python3.9/site-packages/lightgbm/sklearn.py:736: UserWarning: 'verbose' argument is deprecated and will be removed in a future release of LightGBM. Pass 'log_evaluation()' callback via 'callbacks' argument instead.\n",
      "  _log_warning(\"'verbose' argument is deprecated and will be removed in a future release of LightGBM. \"\n"
     ]
    },
    {
     "name": "stdout",
     "output_type": "stream",
     "text": [
      "[100]\ttraining's auc: 0.763107\ttraining's binary_logloss: 0.247151\tvalid_1's auc: 0.753866\tvalid_1's binary_logloss: 0.248954\n",
      "[200]\ttraining's auc: 0.781504\ttraining's binary_logloss: 0.240001\tvalid_1's auc: 0.765904\tvalid_1's binary_logloss: 0.244142\n",
      "[300]\ttraining's auc: 0.792433\ttraining's binary_logloss: 0.235886\tvalid_1's auc: 0.771276\tvalid_1's binary_logloss: 0.242175\n",
      "[400]\ttraining's auc: 0.800873\ttraining's binary_logloss: 0.232837\tvalid_1's auc: 0.773878\tvalid_1's binary_logloss: 0.241263\n",
      "[500]\ttraining's auc: 0.807847\ttraining's binary_logloss: 0.230329\tvalid_1's auc: 0.775323\tvalid_1's binary_logloss: 0.240774\n",
      "| \u001b[0m 2       \u001b[0m | \u001b[0m 0.7753  \u001b[0m | \u001b[0m 0.6917  \u001b[0m | \u001b[0m 397.9   \u001b[0m | \u001b[0m 11.29   \u001b[0m | \u001b[0m 117.9   \u001b[0m | \u001b[0m 46.35   \u001b[0m | \u001b[0m 26.84   \u001b[0m | \u001b[0m 4.366   \u001b[0m | \u001b[0m 0.2032  \u001b[0m | \u001b[0m 0.9163  \u001b[0m |\n"
     ]
    },
    {
     "name": "stderr",
     "output_type": "stream",
     "text": [
      "/usr/local/anaconda3/lib/python3.9/site-packages/lightgbm/sklearn.py:726: UserWarning: 'early_stopping_rounds' argument is deprecated and will be removed in a future release of LightGBM. Pass 'early_stopping()' callback via 'callbacks' argument instead.\n",
      "  _log_warning(\"'early_stopping_rounds' argument is deprecated and will be removed in a future release of LightGBM. \"\n",
      "/usr/local/anaconda3/lib/python3.9/site-packages/lightgbm/sklearn.py:736: UserWarning: 'verbose' argument is deprecated and will be removed in a future release of LightGBM. Pass 'log_evaluation()' callback via 'callbacks' argument instead.\n",
      "  _log_warning(\"'verbose' argument is deprecated and will be removed in a future release of LightGBM. \"\n"
     ]
    },
    {
     "name": "stdout",
     "output_type": "stream",
     "text": [
      "[100]\ttraining's auc: 0.775952\ttraining's binary_logloss: 0.243795\tvalid_1's auc: 0.757512\tvalid_1's binary_logloss: 0.247936\n",
      "[200]\ttraining's auc: 0.796937\ttraining's binary_logloss: 0.235056\tvalid_1's auc: 0.768682\tvalid_1's binary_logloss: 0.243235\n",
      "[300]\ttraining's auc: 0.811908\ttraining's binary_logloss: 0.229364\tvalid_1's auc: 0.773193\tvalid_1's binary_logloss: 0.241615\n",
      "[400]\ttraining's auc: 0.824782\ttraining's binary_logloss: 0.224547\tvalid_1's auc: 0.77616\tvalid_1's binary_logloss: 0.240624\n",
      "[500]\ttraining's auc: 0.835608\ttraining's binary_logloss: 0.220452\tvalid_1's auc: 0.777366\tvalid_1's binary_logloss: 0.240187\n",
      "| \u001b[95m 3       \u001b[0m | \u001b[95m 0.7774  \u001b[0m | \u001b[95m 0.8891  \u001b[0m | \u001b[95m 436.3   \u001b[0m | \u001b[95m 15.79   \u001b[0m | \u001b[95m 161.8   \u001b[0m | \u001b[95m 23.61   \u001b[0m | \u001b[95m 55.22   \u001b[0m | \u001b[95m 5.923   \u001b[0m | \u001b[95m 6.4     \u001b[0m | \u001b[95m 0.5717  \u001b[0m |\n"
     ]
    },
    {
     "name": "stderr",
     "output_type": "stream",
     "text": [
      "/usr/local/anaconda3/lib/python3.9/site-packages/lightgbm/sklearn.py:726: UserWarning: 'early_stopping_rounds' argument is deprecated and will be removed in a future release of LightGBM. Pass 'early_stopping()' callback via 'callbacks' argument instead.\n",
      "  _log_warning(\"'early_stopping_rounds' argument is deprecated and will be removed in a future release of LightGBM. \"\n",
      "/usr/local/anaconda3/lib/python3.9/site-packages/lightgbm/sklearn.py:736: UserWarning: 'verbose' argument is deprecated and will be removed in a future release of LightGBM. Pass 'log_evaluation()' callback via 'callbacks' argument instead.\n",
      "  _log_warning(\"'verbose' argument is deprecated and will be removed in a future release of LightGBM. \"\n"
     ]
    },
    {
     "name": "stdout",
     "output_type": "stream",
     "text": [
      "[100]\ttraining's auc: 0.771103\ttraining's binary_logloss: 0.244517\tvalid_1's auc: 0.756477\tvalid_1's binary_logloss: 0.24792\n",
      "[200]\ttraining's auc: 0.792341\ttraining's binary_logloss: 0.236144\tvalid_1's auc: 0.768128\tvalid_1's binary_logloss: 0.243329\n",
      "[300]\ttraining's auc: 0.806192\ttraining's binary_logloss: 0.23092\tvalid_1's auc: 0.772715\tvalid_1's binary_logloss: 0.241695\n",
      "[400]\ttraining's auc: 0.817351\ttraining's binary_logloss: 0.226786\tvalid_1's auc: 0.775027\tvalid_1's binary_logloss: 0.240898\n",
      "[500]\ttraining's auc: 0.826822\ttraining's binary_logloss: 0.223232\tvalid_1's auc: 0.776276\tvalid_1's binary_logloss: 0.240477\n",
      "| \u001b[0m 4       \u001b[0m | \u001b[0m 0.7763  \u001b[0m | \u001b[0m 0.9723  \u001b[0m | \u001b[0m 265.7   \u001b[0m | \u001b[0m 10.15   \u001b[0m | \u001b[0m 60.27   \u001b[0m | \u001b[0m 38.94   \u001b[0m | \u001b[0m 42.25   \u001b[0m | \u001b[0m 28.43   \u001b[0m | \u001b[0m 0.1889  \u001b[0m | \u001b[0m 0.8088  \u001b[0m |\n"
     ]
    },
    {
     "name": "stderr",
     "output_type": "stream",
     "text": [
      "/usr/local/anaconda3/lib/python3.9/site-packages/lightgbm/sklearn.py:726: UserWarning: 'early_stopping_rounds' argument is deprecated and will be removed in a future release of LightGBM. Pass 'early_stopping()' callback via 'callbacks' argument instead.\n",
      "  _log_warning(\"'early_stopping_rounds' argument is deprecated and will be removed in a future release of LightGBM. \"\n",
      "/usr/local/anaconda3/lib/python3.9/site-packages/lightgbm/sklearn.py:736: UserWarning: 'verbose' argument is deprecated and will be removed in a future release of LightGBM. Pass 'log_evaluation()' callback via 'callbacks' argument instead.\n",
      "  _log_warning(\"'verbose' argument is deprecated and will be removed in a future release of LightGBM. \"\n"
     ]
    },
    {
     "name": "stdout",
     "output_type": "stream",
     "text": [
      "[100]\ttraining's auc: 0.772544\ttraining's binary_logloss: 0.24452\tvalid_1's auc: 0.757064\tvalid_1's binary_logloss: 0.24808\n",
      "[200]\ttraining's auc: 0.793245\ttraining's binary_logloss: 0.2361\tvalid_1's auc: 0.768085\tvalid_1's binary_logloss: 0.24342\n",
      "[300]\ttraining's auc: 0.807688\ttraining's binary_logloss: 0.230705\tvalid_1's auc: 0.772838\tvalid_1's binary_logloss: 0.241701\n",
      "[400]\ttraining's auc: 0.819524\ttraining's binary_logloss: 0.226381\tvalid_1's auc: 0.775373\tvalid_1's binary_logloss: 0.240854\n",
      "[500]\ttraining's auc: 0.829581\ttraining's binary_logloss: 0.222696\tvalid_1's auc: 0.776466\tvalid_1's binary_logloss: 0.240473\n",
      "| \u001b[0m 5       \u001b[0m | \u001b[0m 0.7765  \u001b[0m | \u001b[0m 0.806   \u001b[0m | \u001b[0m 312.3   \u001b[0m | \u001b[0m 15.44   \u001b[0m | \u001b[0m 139.5   \u001b[0m | \u001b[0m 18.62   \u001b[0m | \u001b[0m 41.48   \u001b[0m | \u001b[0m 34.88   \u001b[0m | \u001b[0m 0.6032  \u001b[0m | \u001b[0m 0.8334  \u001b[0m |\n"
     ]
    },
    {
     "name": "stderr",
     "output_type": "stream",
     "text": [
      "/usr/local/anaconda3/lib/python3.9/site-packages/lightgbm/sklearn.py:726: UserWarning: 'early_stopping_rounds' argument is deprecated and will be removed in a future release of LightGBM. Pass 'early_stopping()' callback via 'callbacks' argument instead.\n",
      "  _log_warning(\"'early_stopping_rounds' argument is deprecated and will be removed in a future release of LightGBM. \"\n",
      "/usr/local/anaconda3/lib/python3.9/site-packages/lightgbm/sklearn.py:736: UserWarning: 'verbose' argument is deprecated and will be removed in a future release of LightGBM. Pass 'log_evaluation()' callback via 'callbacks' argument instead.\n",
      "  _log_warning(\"'verbose' argument is deprecated and will be removed in a future release of LightGBM. \"\n"
     ]
    },
    {
     "name": "stdout",
     "output_type": "stream",
     "text": [
      "[100]\ttraining's auc: 0.777322\ttraining's binary_logloss: 0.244304\tvalid_1's auc: 0.758273\tvalid_1's binary_logloss: 0.2483\n",
      "[200]\ttraining's auc: 0.795897\ttraining's binary_logloss: 0.235735\tvalid_1's auc: 0.768258\tvalid_1's binary_logloss: 0.243452\n",
      "[300]\ttraining's auc: 0.809716\ttraining's binary_logloss: 0.230326\tvalid_1's auc: 0.772798\tvalid_1's binary_logloss: 0.241721\n",
      "[400]\ttraining's auc: 0.821492\ttraining's binary_logloss: 0.225868\tvalid_1's auc: 0.775337\tvalid_1's binary_logloss: 0.240823\n",
      "[500]\ttraining's auc: 0.831885\ttraining's binary_logloss: 0.221927\tvalid_1's auc: 0.776914\tvalid_1's binary_logloss: 0.240279\n",
      "| \u001b[0m 6       \u001b[0m | \u001b[0m 0.7769  \u001b[0m | \u001b[0m 0.6405  \u001b[0m | \u001b[0m 435.0   \u001b[0m | \u001b[0m 13.5    \u001b[0m | \u001b[0m 169.3   \u001b[0m | \u001b[0m 26.92   \u001b[0m | \u001b[0m 57.69   \u001b[0m | \u001b[0m 5.768   \u001b[0m | \u001b[0m 9.196   \u001b[0m | \u001b[0m 0.613   \u001b[0m |\n"
     ]
    },
    {
     "name": "stderr",
     "output_type": "stream",
     "text": [
      "/usr/local/anaconda3/lib/python3.9/site-packages/lightgbm/sklearn.py:726: UserWarning: 'early_stopping_rounds' argument is deprecated and will be removed in a future release of LightGBM. Pass 'early_stopping()' callback via 'callbacks' argument instead.\n",
      "  _log_warning(\"'early_stopping_rounds' argument is deprecated and will be removed in a future release of LightGBM. \"\n",
      "/usr/local/anaconda3/lib/python3.9/site-packages/lightgbm/sklearn.py:736: UserWarning: 'verbose' argument is deprecated and will be removed in a future release of LightGBM. Pass 'log_evaluation()' callback via 'callbacks' argument instead.\n",
      "  _log_warning(\"'verbose' argument is deprecated and will be removed in a future release of LightGBM. \"\n"
     ]
    },
    {
     "name": "stdout",
     "output_type": "stream",
     "text": [
      "[100]\ttraining's auc: 0.780989\ttraining's binary_logloss: 0.242756\tvalid_1's auc: 0.75951\tvalid_1's binary_logloss: 0.247691\n",
      "[200]\ttraining's auc: 0.802215\ttraining's binary_logloss: 0.233317\tvalid_1's auc: 0.769469\tvalid_1's binary_logloss: 0.242947\n",
      "[300]\ttraining's auc: 0.818453\ttraining's binary_logloss: 0.227042\tvalid_1's auc: 0.773703\tvalid_1's binary_logloss: 0.241349\n",
      "[400]\ttraining's auc: 0.832506\ttraining's binary_logloss: 0.221687\tvalid_1's auc: 0.776294\tvalid_1's binary_logloss: 0.24048\n",
      "[500]\ttraining's auc: 0.844459\ttraining's binary_logloss: 0.217135\tvalid_1's auc: 0.777332\tvalid_1's binary_logloss: 0.240096\n",
      "| \u001b[0m 7       \u001b[0m | \u001b[0m 0.7773  \u001b[0m | \u001b[0m 0.6415  \u001b[0m | \u001b[0m 445.9   \u001b[0m | \u001b[0m 11.67   \u001b[0m | \u001b[0m 154.9   \u001b[0m | \u001b[0m 12.0    \u001b[0m | \u001b[0m 59.55   \u001b[0m | \u001b[0m 2.39    \u001b[0m | \u001b[0m 3.207   \u001b[0m | \u001b[0m 0.6725  \u001b[0m |\n"
     ]
    },
    {
     "name": "stderr",
     "output_type": "stream",
     "text": [
      "/usr/local/anaconda3/lib/python3.9/site-packages/lightgbm/sklearn.py:726: UserWarning: 'early_stopping_rounds' argument is deprecated and will be removed in a future release of LightGBM. Pass 'early_stopping()' callback via 'callbacks' argument instead.\n",
      "  _log_warning(\"'early_stopping_rounds' argument is deprecated and will be removed in a future release of LightGBM. \"\n",
      "/usr/local/anaconda3/lib/python3.9/site-packages/lightgbm/sklearn.py:736: UserWarning: 'verbose' argument is deprecated and will be removed in a future release of LightGBM. Pass 'log_evaluation()' callback via 'callbacks' argument instead.\n",
      "  _log_warning(\"'verbose' argument is deprecated and will be removed in a future release of LightGBM. \"\n"
     ]
    },
    {
     "name": "stdout",
     "output_type": "stream",
     "text": [
      "[100]\ttraining's auc: 0.773034\ttraining's binary_logloss: 0.244149\tvalid_1's auc: 0.756418\tvalid_1's binary_logloss: 0.24795\n",
      "[200]\ttraining's auc: 0.794987\ttraining's binary_logloss: 0.235456\tvalid_1's auc: 0.768664\tvalid_1's binary_logloss: 0.243174\n",
      "[300]\ttraining's auc: 0.80995\ttraining's binary_logloss: 0.229852\tvalid_1's auc: 0.773156\tvalid_1's binary_logloss: 0.241575\n",
      "[400]\ttraining's auc: 0.822197\ttraining's binary_logloss: 0.225307\tvalid_1's auc: 0.775646\tvalid_1's binary_logloss: 0.240708\n",
      "[500]\ttraining's auc: 0.83219\ttraining's binary_logloss: 0.221534\tvalid_1's auc: 0.7766\tvalid_1's binary_logloss: 0.240402\n",
      "| \u001b[0m 8       \u001b[0m | \u001b[0m 0.7766  \u001b[0m | \u001b[0m 0.9874  \u001b[0m | \u001b[0m 455.4   \u001b[0m | \u001b[0m 15.2    \u001b[0m | \u001b[0m 145.3   \u001b[0m | \u001b[0m 28.96   \u001b[0m | \u001b[0m 46.3    \u001b[0m | \u001b[0m 10.73   \u001b[0m | \u001b[0m 2.029   \u001b[0m | \u001b[0m 0.9511  \u001b[0m |\n"
     ]
    },
    {
     "name": "stderr",
     "output_type": "stream",
     "text": [
      "/usr/local/anaconda3/lib/python3.9/site-packages/lightgbm/sklearn.py:726: UserWarning: 'early_stopping_rounds' argument is deprecated and will be removed in a future release of LightGBM. Pass 'early_stopping()' callback via 'callbacks' argument instead.\n",
      "  _log_warning(\"'early_stopping_rounds' argument is deprecated and will be removed in a future release of LightGBM. \"\n",
      "/usr/local/anaconda3/lib/python3.9/site-packages/lightgbm/sklearn.py:736: UserWarning: 'verbose' argument is deprecated and will be removed in a future release of LightGBM. Pass 'log_evaluation()' callback via 'callbacks' argument instead.\n",
      "  _log_warning(\"'verbose' argument is deprecated and will be removed in a future release of LightGBM. \"\n"
     ]
    },
    {
     "name": "stdout",
     "output_type": "stream",
     "text": [
      "[100]\ttraining's auc: 0.772258\ttraining's binary_logloss: 0.245689\tvalid_1's auc: 0.757669\tvalid_1's binary_logloss: 0.248606\n",
      "[200]\ttraining's auc: 0.789272\ttraining's binary_logloss: 0.237929\tvalid_1's auc: 0.767506\tvalid_1's binary_logloss: 0.243772\n",
      "[300]\ttraining's auc: 0.800665\ttraining's binary_logloss: 0.233466\tvalid_1's auc: 0.772184\tvalid_1's binary_logloss: 0.241995\n",
      "[400]\ttraining's auc: 0.809532\ttraining's binary_logloss: 0.230071\tvalid_1's auc: 0.774702\tvalid_1's binary_logloss: 0.241063\n",
      "[500]\ttraining's auc: 0.817672\ttraining's binary_logloss: 0.227044\tvalid_1's auc: 0.776144\tvalid_1's binary_logloss: 0.240534\n",
      "| \u001b[0m 9       \u001b[0m | \u001b[0m 0.7761  \u001b[0m | \u001b[0m 0.6017  \u001b[0m | \u001b[0m 437.7   \u001b[0m | \u001b[0m 6.842   \u001b[0m | \u001b[0m 158.7   \u001b[0m | \u001b[0m 9.733   \u001b[0m | \u001b[0m 42.92   \u001b[0m | \u001b[0m 15.09   \u001b[0m | \u001b[0m 5.779   \u001b[0m | \u001b[0m 0.659   \u001b[0m |\n"
     ]
    },
    {
     "name": "stderr",
     "output_type": "stream",
     "text": [
      "/usr/local/anaconda3/lib/python3.9/site-packages/lightgbm/sklearn.py:726: UserWarning: 'early_stopping_rounds' argument is deprecated and will be removed in a future release of LightGBM. Pass 'early_stopping()' callback via 'callbacks' argument instead.\n",
      "  _log_warning(\"'early_stopping_rounds' argument is deprecated and will be removed in a future release of LightGBM. \"\n",
      "/usr/local/anaconda3/lib/python3.9/site-packages/lightgbm/sklearn.py:736: UserWarning: 'verbose' argument is deprecated and will be removed in a future release of LightGBM. Pass 'log_evaluation()' callback via 'callbacks' argument instead.\n",
      "  _log_warning(\"'verbose' argument is deprecated and will be removed in a future release of LightGBM. \"\n"
     ]
    },
    {
     "name": "stdout",
     "output_type": "stream",
     "text": [
      "[100]\ttraining's auc: 0.779202\ttraining's binary_logloss: 0.243209\tvalid_1's auc: 0.75885\tvalid_1's binary_logloss: 0.247774\n",
      "[200]\ttraining's auc: 0.79987\ttraining's binary_logloss: 0.234148\tvalid_1's auc: 0.769078\tvalid_1's binary_logloss: 0.243088\n",
      "[300]\ttraining's auc: 0.814577\ttraining's binary_logloss: 0.228403\tvalid_1's auc: 0.773249\tvalid_1's binary_logloss: 0.241537\n",
      "[400]\ttraining's auc: 0.82714\ttraining's binary_logloss: 0.223602\tvalid_1's auc: 0.77547\tvalid_1's binary_logloss: 0.240736\n",
      "[500]\ttraining's auc: 0.838211\ttraining's binary_logloss: 0.219395\tvalid_1's auc: 0.776791\tvalid_1's binary_logloss: 0.240284\n",
      "| \u001b[0m 10      \u001b[0m | \u001b[0m 0.7768  \u001b[0m | \u001b[0m 0.8036  \u001b[0m | \u001b[0m 439.5   \u001b[0m | \u001b[0m 10.21   \u001b[0m | \u001b[0m 146.3   \u001b[0m | \u001b[0m 25.88   \u001b[0m | \u001b[0m 62.43   \u001b[0m | \u001b[0m 8.247   \u001b[0m | \u001b[0m 6.551   \u001b[0m | \u001b[0m 0.7278  \u001b[0m |\n"
     ]
    },
    {
     "name": "stderr",
     "output_type": "stream",
     "text": [
      "/usr/local/anaconda3/lib/python3.9/site-packages/lightgbm/sklearn.py:726: UserWarning: 'early_stopping_rounds' argument is deprecated and will be removed in a future release of LightGBM. Pass 'early_stopping()' callback via 'callbacks' argument instead.\n",
      "  _log_warning(\"'early_stopping_rounds' argument is deprecated and will be removed in a future release of LightGBM. \"\n",
      "/usr/local/anaconda3/lib/python3.9/site-packages/lightgbm/sklearn.py:736: UserWarning: 'verbose' argument is deprecated and will be removed in a future release of LightGBM. Pass 'log_evaluation()' callback via 'callbacks' argument instead.\n",
      "  _log_warning(\"'verbose' argument is deprecated and will be removed in a future release of LightGBM. \"\n"
     ]
    },
    {
     "name": "stdout",
     "output_type": "stream",
     "text": [
      "[100]\ttraining's auc: 0.781441\ttraining's binary_logloss: 0.242501\tvalid_1's auc: 0.759137\tvalid_1's binary_logloss: 0.247664\n",
      "[200]\ttraining's auc: 0.803307\ttraining's binary_logloss: 0.233006\tvalid_1's auc: 0.76939\tvalid_1's binary_logloss: 0.243015\n",
      "[300]\ttraining's auc: 0.819474\ttraining's binary_logloss: 0.226712\tvalid_1's auc: 0.773592\tvalid_1's binary_logloss: 0.241483\n",
      "[400]\ttraining's auc: 0.833542\ttraining's binary_logloss: 0.221383\tvalid_1's auc: 0.775793\tvalid_1's binary_logloss: 0.240713\n",
      "[500]\ttraining's auc: 0.845656\ttraining's binary_logloss: 0.21676\tvalid_1's auc: 0.777251\tvalid_1's binary_logloss: 0.240208\n",
      "| \u001b[0m 11      \u001b[0m | \u001b[0m 0.7773  \u001b[0m | \u001b[0m 0.736   \u001b[0m | \u001b[0m 442.0   \u001b[0m | \u001b[0m 10.56   \u001b[0m | \u001b[0m 157.5   \u001b[0m | \u001b[0m 4.929   \u001b[0m | \u001b[0m 62.76   \u001b[0m | \u001b[0m 10.17   \u001b[0m | \u001b[0m 4.287   \u001b[0m | \u001b[0m 0.6611  \u001b[0m |\n"
     ]
    },
    {
     "name": "stderr",
     "output_type": "stream",
     "text": [
      "/usr/local/anaconda3/lib/python3.9/site-packages/lightgbm/sklearn.py:726: UserWarning: 'early_stopping_rounds' argument is deprecated and will be removed in a future release of LightGBM. Pass 'early_stopping()' callback via 'callbacks' argument instead.\n",
      "  _log_warning(\"'early_stopping_rounds' argument is deprecated and will be removed in a future release of LightGBM. \"\n",
      "/usr/local/anaconda3/lib/python3.9/site-packages/lightgbm/sklearn.py:736: UserWarning: 'verbose' argument is deprecated and will be removed in a future release of LightGBM. Pass 'log_evaluation()' callback via 'callbacks' argument instead.\n",
      "  _log_warning(\"'verbose' argument is deprecated and will be removed in a future release of LightGBM. \"\n"
     ]
    },
    {
     "name": "stdout",
     "output_type": "stream",
     "text": [
      "[100]\ttraining's auc: 0.777281\ttraining's binary_logloss: 0.2434\tvalid_1's auc: 0.756971\tvalid_1's binary_logloss: 0.248009\n",
      "[200]\ttraining's auc: 0.799192\ttraining's binary_logloss: 0.23427\tvalid_1's auc: 0.768644\tvalid_1's binary_logloss: 0.243288\n",
      "[300]\ttraining's auc: 0.815003\ttraining's binary_logloss: 0.228239\tvalid_1's auc: 0.77361\tvalid_1's binary_logloss: 0.241568\n",
      "[400]\ttraining's auc: 0.828123\ttraining's binary_logloss: 0.223269\tvalid_1's auc: 0.775949\tvalid_1's binary_logloss: 0.240733\n",
      "[500]\ttraining's auc: 0.839511\ttraining's binary_logloss: 0.218904\tvalid_1's auc: 0.777138\tvalid_1's binary_logloss: 0.240284\n",
      "| \u001b[0m 12      \u001b[0m | \u001b[0m 0.7771  \u001b[0m | \u001b[0m 0.9989  \u001b[0m | \u001b[0m 452.5   \u001b[0m | \u001b[0m 15.66   \u001b[0m | \u001b[0m 149.8   \u001b[0m | \u001b[0m 6.868   \u001b[0m | \u001b[0m 62.12   \u001b[0m | \u001b[0m 12.18   \u001b[0m | \u001b[0m 8.236   \u001b[0m | \u001b[0m 0.9265  \u001b[0m |\n"
     ]
    },
    {
     "name": "stderr",
     "output_type": "stream",
     "text": [
      "/usr/local/anaconda3/lib/python3.9/site-packages/lightgbm/sklearn.py:726: UserWarning: 'early_stopping_rounds' argument is deprecated and will be removed in a future release of LightGBM. Pass 'early_stopping()' callback via 'callbacks' argument instead.\n",
      "  _log_warning(\"'early_stopping_rounds' argument is deprecated and will be removed in a future release of LightGBM. \"\n",
      "/usr/local/anaconda3/lib/python3.9/site-packages/lightgbm/sklearn.py:736: UserWarning: 'verbose' argument is deprecated and will be removed in a future release of LightGBM. Pass 'log_evaluation()' callback via 'callbacks' argument instead.\n",
      "  _log_warning(\"'verbose' argument is deprecated and will be removed in a future release of LightGBM. \"\n"
     ]
    },
    {
     "name": "stdout",
     "output_type": "stream",
     "text": [
      "[100]\ttraining's auc: 0.770368\ttraining's binary_logloss: 0.245563\tvalid_1's auc: 0.756163\tvalid_1's binary_logloss: 0.248497\n",
      "[200]\ttraining's auc: 0.789049\ttraining's binary_logloss: 0.237753\tvalid_1's auc: 0.767214\tvalid_1's binary_logloss: 0.243794\n",
      "[300]\ttraining's auc: 0.80146\ttraining's binary_logloss: 0.233017\tvalid_1's auc: 0.772108\tvalid_1's binary_logloss: 0.242004\n",
      "[400]\ttraining's auc: 0.811593\ttraining's binary_logloss: 0.229251\tvalid_1's auc: 0.774845\tvalid_1's binary_logloss: 0.241058\n",
      "[500]\ttraining's auc: 0.820409\ttraining's binary_logloss: 0.22598\tvalid_1's auc: 0.776518\tvalid_1's binary_logloss: 0.240475\n",
      "| \u001b[0m 13      \u001b[0m | \u001b[0m 0.7765  \u001b[0m | \u001b[0m 0.7515  \u001b[0m | \u001b[0m 357.8   \u001b[0m | \u001b[0m 13.4    \u001b[0m | \u001b[0m 115.6   \u001b[0m | \u001b[0m 26.93   \u001b[0m | \u001b[0m 43.65   \u001b[0m | \u001b[0m 28.28   \u001b[0m | \u001b[0m 9.18    \u001b[0m | \u001b[0m 0.5243  \u001b[0m |\n"
     ]
    },
    {
     "name": "stderr",
     "output_type": "stream",
     "text": [
      "/usr/local/anaconda3/lib/python3.9/site-packages/lightgbm/sklearn.py:726: UserWarning: 'early_stopping_rounds' argument is deprecated and will be removed in a future release of LightGBM. Pass 'early_stopping()' callback via 'callbacks' argument instead.\n",
      "  _log_warning(\"'early_stopping_rounds' argument is deprecated and will be removed in a future release of LightGBM. \"\n",
      "/usr/local/anaconda3/lib/python3.9/site-packages/lightgbm/sklearn.py:736: UserWarning: 'verbose' argument is deprecated and will be removed in a future release of LightGBM. Pass 'log_evaluation()' callback via 'callbacks' argument instead.\n",
      "  _log_warning(\"'verbose' argument is deprecated and will be removed in a future release of LightGBM. \"\n"
     ]
    },
    {
     "name": "stdout",
     "output_type": "stream",
     "text": [
      "[100]\ttraining's auc: 0.781336\ttraining's binary_logloss: 0.241707\tvalid_1's auc: 0.758172\tvalid_1's binary_logloss: 0.247433\n",
      "[200]\ttraining's auc: 0.807176\ttraining's binary_logloss: 0.231524\tvalid_1's auc: 0.769459\tvalid_1's binary_logloss: 0.242876\n",
      "[300]\ttraining's auc: 0.826755\ttraining's binary_logloss: 0.224308\tvalid_1's auc: 0.773858\tvalid_1's binary_logloss: 0.24132\n",
      "[400]\ttraining's auc: 0.842161\ttraining's binary_logloss: 0.218496\tvalid_1's auc: 0.775802\tvalid_1's binary_logloss: 0.240637\n",
      "[500]\ttraining's auc: 0.85594\ttraining's binary_logloss: 0.213383\tvalid_1's auc: 0.77652\tvalid_1's binary_logloss: 0.240377\n",
      "| \u001b[0m 14      \u001b[0m | \u001b[0m 0.7765  \u001b[0m | \u001b[0m 0.9307  \u001b[0m | \u001b[0m 470.8   \u001b[0m | \u001b[0m 14.59   \u001b[0m | \u001b[0m 158.8   \u001b[0m | \u001b[0m 6.385   \u001b[0m | \u001b[0m 58.73   \u001b[0m | \u001b[0m 2.245   \u001b[0m | \u001b[0m 0.514   \u001b[0m | \u001b[0m 0.6617  \u001b[0m |\n"
     ]
    },
    {
     "name": "stderr",
     "output_type": "stream",
     "text": [
      "/usr/local/anaconda3/lib/python3.9/site-packages/lightgbm/sklearn.py:726: UserWarning: 'early_stopping_rounds' argument is deprecated and will be removed in a future release of LightGBM. Pass 'early_stopping()' callback via 'callbacks' argument instead.\n",
      "  _log_warning(\"'early_stopping_rounds' argument is deprecated and will be removed in a future release of LightGBM. \"\n",
      "/usr/local/anaconda3/lib/python3.9/site-packages/lightgbm/sklearn.py:736: UserWarning: 'verbose' argument is deprecated and will be removed in a future release of LightGBM. Pass 'log_evaluation()' callback via 'callbacks' argument instead.\n",
      "  _log_warning(\"'verbose' argument is deprecated and will be removed in a future release of LightGBM. \"\n"
     ]
    },
    {
     "name": "stdout",
     "output_type": "stream",
     "text": [
      "[100]\ttraining's auc: 0.776668\ttraining's binary_logloss: 0.244129\tvalid_1's auc: 0.758125\tvalid_1's binary_logloss: 0.248136\n",
      "[200]\ttraining's auc: 0.796032\ttraining's binary_logloss: 0.235547\tvalid_1's auc: 0.768595\tvalid_1's binary_logloss: 0.243366\n",
      "[300]\ttraining's auc: 0.810016\ttraining's binary_logloss: 0.230085\tvalid_1's auc: 0.773158\tvalid_1's binary_logloss: 0.241667\n",
      "[400]\ttraining's auc: 0.821886\ttraining's binary_logloss: 0.225609\tvalid_1's auc: 0.77559\tvalid_1's binary_logloss: 0.240796\n",
      "[500]\ttraining's auc: 0.832365\ttraining's binary_logloss: 0.221638\tvalid_1's auc: 0.77712\tvalid_1's binary_logloss: 0.240256\n",
      "| \u001b[0m 15      \u001b[0m | \u001b[0m 0.7771  \u001b[0m | \u001b[0m 0.733   \u001b[0m | \u001b[0m 440.4   \u001b[0m | \u001b[0m 12.77   \u001b[0m | \u001b[0m 139.3   \u001b[0m | \u001b[0m 27.37   \u001b[0m | \u001b[0m 57.86   \u001b[0m | \u001b[0m 11.17   \u001b[0m | \u001b[0m 9.161   \u001b[0m | \u001b[0m 0.606   \u001b[0m |\n"
     ]
    },
    {
     "name": "stderr",
     "output_type": "stream",
     "text": [
      "/usr/local/anaconda3/lib/python3.9/site-packages/lightgbm/sklearn.py:726: UserWarning: 'early_stopping_rounds' argument is deprecated and will be removed in a future release of LightGBM. Pass 'early_stopping()' callback via 'callbacks' argument instead.\n",
      "  _log_warning(\"'early_stopping_rounds' argument is deprecated and will be removed in a future release of LightGBM. \"\n",
      "/usr/local/anaconda3/lib/python3.9/site-packages/lightgbm/sklearn.py:736: UserWarning: 'verbose' argument is deprecated and will be removed in a future release of LightGBM. Pass 'log_evaluation()' callback via 'callbacks' argument instead.\n",
      "  _log_warning(\"'verbose' argument is deprecated and will be removed in a future release of LightGBM. \"\n"
     ]
    },
    {
     "name": "stdout",
     "output_type": "stream",
     "text": [
      "[100]\ttraining's auc: 0.781606\ttraining's binary_logloss: 0.242704\tvalid_1's auc: 0.759587\tvalid_1's binary_logloss: 0.247606\n",
      "[200]\ttraining's auc: 0.80246\ttraining's binary_logloss: 0.233541\tvalid_1's auc: 0.769099\tvalid_1's binary_logloss: 0.243051\n",
      "[300]\ttraining's auc: 0.81716\ttraining's binary_logloss: 0.227695\tvalid_1's auc: 0.773297\tvalid_1's binary_logloss: 0.241472\n",
      "[400]\ttraining's auc: 0.829733\ttraining's binary_logloss: 0.222868\tvalid_1's auc: 0.775555\tvalid_1's binary_logloss: 0.240659\n",
      "[500]\ttraining's auc: 0.840961\ttraining's binary_logloss: 0.218587\tvalid_1's auc: 0.776961\tvalid_1's binary_logloss: 0.240164\n",
      "| \u001b[0m 16      \u001b[0m | \u001b[0m 0.777   \u001b[0m | \u001b[0m 0.6848  \u001b[0m | \u001b[0m 438.0   \u001b[0m | \u001b[0m 7.733   \u001b[0m | \u001b[0m 149.2   \u001b[0m | \u001b[0m 5.402   \u001b[0m | \u001b[0m 63.23   \u001b[0m | \u001b[0m 9.407   \u001b[0m | \u001b[0m 3.768   \u001b[0m | \u001b[0m 0.503   \u001b[0m |\n"
     ]
    },
    {
     "name": "stderr",
     "output_type": "stream",
     "text": [
      "/usr/local/anaconda3/lib/python3.9/site-packages/lightgbm/sklearn.py:726: UserWarning: 'early_stopping_rounds' argument is deprecated and will be removed in a future release of LightGBM. Pass 'early_stopping()' callback via 'callbacks' argument instead.\n",
      "  _log_warning(\"'early_stopping_rounds' argument is deprecated and will be removed in a future release of LightGBM. \"\n",
      "/usr/local/anaconda3/lib/python3.9/site-packages/lightgbm/sklearn.py:736: UserWarning: 'verbose' argument is deprecated and will be removed in a future release of LightGBM. Pass 'log_evaluation()' callback via 'callbacks' argument instead.\n",
      "  _log_warning(\"'verbose' argument is deprecated and will be removed in a future release of LightGBM. \"\n"
     ]
    },
    {
     "name": "stdout",
     "output_type": "stream",
     "text": [
      "[100]\ttraining's auc: 0.778026\ttraining's binary_logloss: 0.243346\tvalid_1's auc: 0.757606\tvalid_1's binary_logloss: 0.247812\n",
      "[200]\ttraining's auc: 0.799164\ttraining's binary_logloss: 0.234565\tvalid_1's auc: 0.768075\tvalid_1's binary_logloss: 0.243347\n",
      "[300]\ttraining's auc: 0.812628\ttraining's binary_logloss: 0.229276\tvalid_1's auc: 0.772411\tvalid_1's binary_logloss: 0.24177\n",
      "[400]\ttraining's auc: 0.823065\ttraining's binary_logloss: 0.225279\tvalid_1's auc: 0.774606\tvalid_1's binary_logloss: 0.241019\n",
      "[500]\ttraining's auc: 0.832387\ttraining's binary_logloss: 0.221787\tvalid_1's auc: 0.775904\tvalid_1's binary_logloss: 0.240574\n",
      "| \u001b[0m 17      \u001b[0m | \u001b[0m 0.7759  \u001b[0m | \u001b[0m 0.8965  \u001b[0m | \u001b[0m 445.0   \u001b[0m | \u001b[0m 7.151   \u001b[0m | \u001b[0m 157.8   \u001b[0m | \u001b[0m 12.75   \u001b[0m | \u001b[0m 56.11   \u001b[0m | \u001b[0m 7.848   \u001b[0m | \u001b[0m 2.474   \u001b[0m | \u001b[0m 0.5017  \u001b[0m |\n"
     ]
    },
    {
     "name": "stderr",
     "output_type": "stream",
     "text": [
      "/usr/local/anaconda3/lib/python3.9/site-packages/lightgbm/sklearn.py:726: UserWarning: 'early_stopping_rounds' argument is deprecated and will be removed in a future release of LightGBM. Pass 'early_stopping()' callback via 'callbacks' argument instead.\n",
      "  _log_warning(\"'early_stopping_rounds' argument is deprecated and will be removed in a future release of LightGBM. \"\n",
      "/usr/local/anaconda3/lib/python3.9/site-packages/lightgbm/sklearn.py:736: UserWarning: 'verbose' argument is deprecated and will be removed in a future release of LightGBM. Pass 'log_evaluation()' callback via 'callbacks' argument instead.\n",
      "  _log_warning(\"'verbose' argument is deprecated and will be removed in a future release of LightGBM. \"\n"
     ]
    },
    {
     "name": "stdout",
     "output_type": "stream",
     "text": [
      "[100]\ttraining's auc: 0.771078\ttraining's binary_logloss: 0.245013\tvalid_1's auc: 0.756238\tvalid_1's binary_logloss: 0.248227\n",
      "[200]\ttraining's auc: 0.791163\ttraining's binary_logloss: 0.236904\tvalid_1's auc: 0.767485\tvalid_1's binary_logloss: 0.243561\n",
      "[300]\ttraining's auc: 0.8047\ttraining's binary_logloss: 0.231836\tvalid_1's auc: 0.772015\tvalid_1's binary_logloss: 0.241955\n",
      "[400]\ttraining's auc: 0.815804\ttraining's binary_logloss: 0.22776\tvalid_1's auc: 0.774438\tvalid_1's binary_logloss: 0.2411\n",
      "[500]\ttraining's auc: 0.825129\ttraining's binary_logloss: 0.224305\tvalid_1's auc: 0.775709\tvalid_1's binary_logloss: 0.240666\n",
      "| \u001b[0m 18      \u001b[0m | \u001b[0m 0.7757  \u001b[0m | \u001b[0m 0.8263  \u001b[0m | \u001b[0m 179.0   \u001b[0m | \u001b[0m 11.24   \u001b[0m | \u001b[0m 25.42   \u001b[0m | \u001b[0m 22.47   \u001b[0m | \u001b[0m 41.44   \u001b[0m | \u001b[0m 25.05   \u001b[0m | \u001b[0m 2.005   \u001b[0m | \u001b[0m 0.6375  \u001b[0m |\n"
     ]
    },
    {
     "name": "stderr",
     "output_type": "stream",
     "text": [
      "/usr/local/anaconda3/lib/python3.9/site-packages/lightgbm/sklearn.py:726: UserWarning: 'early_stopping_rounds' argument is deprecated and will be removed in a future release of LightGBM. Pass 'early_stopping()' callback via 'callbacks' argument instead.\n",
      "  _log_warning(\"'early_stopping_rounds' argument is deprecated and will be removed in a future release of LightGBM. \"\n",
      "/usr/local/anaconda3/lib/python3.9/site-packages/lightgbm/sklearn.py:736: UserWarning: 'verbose' argument is deprecated and will be removed in a future release of LightGBM. Pass 'log_evaluation()' callback via 'callbacks' argument instead.\n",
      "  _log_warning(\"'verbose' argument is deprecated and will be removed in a future release of LightGBM. \"\n"
     ]
    },
    {
     "name": "stdout",
     "output_type": "stream",
     "text": [
      "[100]\ttraining's auc: 0.76966\ttraining's binary_logloss: 0.245526\tvalid_1's auc: 0.755377\tvalid_1's binary_logloss: 0.248538\n",
      "[200]\ttraining's auc: 0.788868\ttraining's binary_logloss: 0.237637\tvalid_1's auc: 0.767084\tvalid_1's binary_logloss: 0.243768\n",
      "[300]\ttraining's auc: 0.801548\ttraining's binary_logloss: 0.232836\tvalid_1's auc: 0.771942\tvalid_1's binary_logloss: 0.242013\n",
      "[400]\ttraining's auc: 0.811852\ttraining's binary_logloss: 0.229064\tvalid_1's auc: 0.774462\tvalid_1's binary_logloss: 0.241143\n",
      "[500]\ttraining's auc: 0.820585\ttraining's binary_logloss: 0.22583\tvalid_1's auc: 0.775894\tvalid_1's binary_logloss: 0.240624\n",
      "| \u001b[0m 19      \u001b[0m | \u001b[0m 0.7759  \u001b[0m | \u001b[0m 0.9644  \u001b[0m | \u001b[0m 330.1   \u001b[0m | \u001b[0m 10.67   \u001b[0m | \u001b[0m 22.2    \u001b[0m | \u001b[0m 30.45   \u001b[0m | \u001b[0m 42.41   \u001b[0m | \u001b[0m 41.12   \u001b[0m | \u001b[0m 7.102   \u001b[0m | \u001b[0m 0.755   \u001b[0m |\n"
     ]
    },
    {
     "name": "stderr",
     "output_type": "stream",
     "text": [
      "/usr/local/anaconda3/lib/python3.9/site-packages/lightgbm/sklearn.py:726: UserWarning: 'early_stopping_rounds' argument is deprecated and will be removed in a future release of LightGBM. Pass 'early_stopping()' callback via 'callbacks' argument instead.\n",
      "  _log_warning(\"'early_stopping_rounds' argument is deprecated and will be removed in a future release of LightGBM. \"\n",
      "/usr/local/anaconda3/lib/python3.9/site-packages/lightgbm/sklearn.py:736: UserWarning: 'verbose' argument is deprecated and will be removed in a future release of LightGBM. Pass 'log_evaluation()' callback via 'callbacks' argument instead.\n",
      "  _log_warning(\"'verbose' argument is deprecated and will be removed in a future release of LightGBM. \"\n"
     ]
    },
    {
     "name": "stdout",
     "output_type": "stream",
     "text": [
      "[100]\ttraining's auc: 0.774492\ttraining's binary_logloss: 0.244737\tvalid_1's auc: 0.757126\tvalid_1's binary_logloss: 0.248361\n",
      "[200]\ttraining's auc: 0.794786\ttraining's binary_logloss: 0.236324\tvalid_1's auc: 0.767247\tvalid_1's binary_logloss: 0.243777\n",
      "[300]\ttraining's auc: 0.807479\ttraining's binary_logloss: 0.231392\tvalid_1's auc: 0.77197\tvalid_1's binary_logloss: 0.242025\n",
      "[400]\ttraining's auc: 0.816635\ttraining's binary_logloss: 0.227899\tvalid_1's auc: 0.774238\tvalid_1's binary_logloss: 0.241197\n",
      "[500]\ttraining's auc: 0.824318\ttraining's binary_logloss: 0.225051\tvalid_1's auc: 0.775452\tvalid_1's binary_logloss: 0.240752\n",
      "| \u001b[0m 20      \u001b[0m | \u001b[0m 0.7755  \u001b[0m | \u001b[0m 0.6988  \u001b[0m | \u001b[0m 466.8   \u001b[0m | \u001b[0m 6.224   \u001b[0m | \u001b[0m 141.3   \u001b[0m | \u001b[0m 6.811   \u001b[0m | \u001b[0m 46.3    \u001b[0m | \u001b[0m 34.41   \u001b[0m | \u001b[0m 0.2103  \u001b[0m | \u001b[0m 0.8806  \u001b[0m |\n"
     ]
    },
    {
     "name": "stderr",
     "output_type": "stream",
     "text": [
      "/usr/local/anaconda3/lib/python3.9/site-packages/lightgbm/sklearn.py:726: UserWarning: 'early_stopping_rounds' argument is deprecated and will be removed in a future release of LightGBM. Pass 'early_stopping()' callback via 'callbacks' argument instead.\n",
      "  _log_warning(\"'early_stopping_rounds' argument is deprecated and will be removed in a future release of LightGBM. \"\n",
      "/usr/local/anaconda3/lib/python3.9/site-packages/lightgbm/sklearn.py:736: UserWarning: 'verbose' argument is deprecated and will be removed in a future release of LightGBM. Pass 'log_evaluation()' callback via 'callbacks' argument instead.\n",
      "  _log_warning(\"'verbose' argument is deprecated and will be removed in a future release of LightGBM. \"\n"
     ]
    },
    {
     "name": "stdout",
     "output_type": "stream",
     "text": [
      "[100]\ttraining's auc: 0.767514\ttraining's binary_logloss: 0.246659\tvalid_1's auc: 0.755646\tvalid_1's binary_logloss: 0.248882\n",
      "[200]\ttraining's auc: 0.784381\ttraining's binary_logloss: 0.239363\tvalid_1's auc: 0.766574\tvalid_1's binary_logloss: 0.244057\n",
      "[300]\ttraining's auc: 0.795167\ttraining's binary_logloss: 0.235214\tvalid_1's auc: 0.771354\tvalid_1's binary_logloss: 0.242257\n",
      "[400]\ttraining's auc: 0.803771\ttraining's binary_logloss: 0.23202\tvalid_1's auc: 0.774006\tvalid_1's binary_logloss: 0.241287\n",
      "[500]\ttraining's auc: 0.811488\ttraining's binary_logloss: 0.229211\tvalid_1's auc: 0.776032\tvalid_1's binary_logloss: 0.2406\n",
      "| \u001b[0m 21      \u001b[0m | \u001b[0m 0.776   \u001b[0m | \u001b[0m 0.6587  \u001b[0m | \u001b[0m 250.5   \u001b[0m | \u001b[0m 9.987   \u001b[0m | \u001b[0m 100.8   \u001b[0m | \u001b[0m 48.75   \u001b[0m | \u001b[0m 36.58   \u001b[0m | \u001b[0m 41.15   \u001b[0m | \u001b[0m 9.618   \u001b[0m | \u001b[0m 0.6229  \u001b[0m |\n"
     ]
    },
    {
     "name": "stderr",
     "output_type": "stream",
     "text": [
      "/usr/local/anaconda3/lib/python3.9/site-packages/lightgbm/sklearn.py:726: UserWarning: 'early_stopping_rounds' argument is deprecated and will be removed in a future release of LightGBM. Pass 'early_stopping()' callback via 'callbacks' argument instead.\n",
      "  _log_warning(\"'early_stopping_rounds' argument is deprecated and will be removed in a future release of LightGBM. \"\n",
      "/usr/local/anaconda3/lib/python3.9/site-packages/lightgbm/sklearn.py:736: UserWarning: 'verbose' argument is deprecated and will be removed in a future release of LightGBM. Pass 'log_evaluation()' callback via 'callbacks' argument instead.\n",
      "  _log_warning(\"'verbose' argument is deprecated and will be removed in a future release of LightGBM. \"\n"
     ]
    },
    {
     "name": "stdout",
     "output_type": "stream",
     "text": [
      "[100]\ttraining's auc: 0.766105\ttraining's binary_logloss: 0.246432\tvalid_1's auc: 0.754315\tvalid_1's binary_logloss: 0.248794\n",
      "[200]\ttraining's auc: 0.784993\ttraining's binary_logloss: 0.238916\tvalid_1's auc: 0.76642\tvalid_1's binary_logloss: 0.243982\n",
      "[300]\ttraining's auc: 0.796773\ttraining's binary_logloss: 0.234512\tvalid_1's auc: 0.771477\tvalid_1's binary_logloss: 0.242183\n",
      "[400]\ttraining's auc: 0.806335\ttraining's binary_logloss: 0.231059\tvalid_1's auc: 0.774387\tvalid_1's binary_logloss: 0.241192\n",
      "[500]\ttraining's auc: 0.81413\ttraining's binary_logloss: 0.22819\tvalid_1's auc: 0.77597\tvalid_1's binary_logloss: 0.240633\n",
      "| \u001b[0m 22      \u001b[0m | \u001b[0m 0.776   \u001b[0m | \u001b[0m 0.9983  \u001b[0m | \u001b[0m 254.0   \u001b[0m | \u001b[0m 15.65   \u001b[0m | \u001b[0m 172.3   \u001b[0m | \u001b[0m 4.75    \u001b[0m | \u001b[0m 36.0    \u001b[0m | \u001b[0m 34.22   \u001b[0m | \u001b[0m 8.13    \u001b[0m | \u001b[0m 0.8197  \u001b[0m |\n"
     ]
    },
    {
     "name": "stderr",
     "output_type": "stream",
     "text": [
      "/usr/local/anaconda3/lib/python3.9/site-packages/lightgbm/sklearn.py:726: UserWarning: 'early_stopping_rounds' argument is deprecated and will be removed in a future release of LightGBM. Pass 'early_stopping()' callback via 'callbacks' argument instead.\n",
      "  _log_warning(\"'early_stopping_rounds' argument is deprecated and will be removed in a future release of LightGBM. \"\n",
      "/usr/local/anaconda3/lib/python3.9/site-packages/lightgbm/sklearn.py:736: UserWarning: 'verbose' argument is deprecated and will be removed in a future release of LightGBM. Pass 'log_evaluation()' callback via 'callbacks' argument instead.\n",
      "  _log_warning(\"'verbose' argument is deprecated and will be removed in a future release of LightGBM. \"\n"
     ]
    },
    {
     "name": "stdout",
     "output_type": "stream",
     "text": [
      "[100]\ttraining's auc: 0.767886\ttraining's binary_logloss: 0.245954\tvalid_1's auc: 0.755034\tvalid_1's binary_logloss: 0.248578\n",
      "[200]\ttraining's auc: 0.787107\ttraining's binary_logloss: 0.23829\tvalid_1's auc: 0.766863\tvalid_1's binary_logloss: 0.243857\n",
      "[300]\ttraining's auc: 0.799466\ttraining's binary_logloss: 0.23367\tvalid_1's auc: 0.771916\tvalid_1's binary_logloss: 0.242075\n",
      "[400]\ttraining's auc: 0.809306\ttraining's binary_logloss: 0.230049\tvalid_1's auc: 0.774347\tvalid_1's binary_logloss: 0.241215\n",
      "[500]\ttraining's auc: 0.817746\ttraining's binary_logloss: 0.22695\tvalid_1's auc: 0.775882\tvalid_1's binary_logloss: 0.24069\n",
      "| \u001b[0m 23      \u001b[0m | \u001b[0m 0.7759  \u001b[0m | \u001b[0m 0.9707  \u001b[0m | \u001b[0m 151.7   \u001b[0m | \u001b[0m 13.38   \u001b[0m | \u001b[0m 46.18   \u001b[0m | \u001b[0m 37.89   \u001b[0m | \u001b[0m 38.31   \u001b[0m | \u001b[0m 47.9    \u001b[0m | \u001b[0m 5.181   \u001b[0m | \u001b[0m 0.5227  \u001b[0m |\n"
     ]
    },
    {
     "name": "stderr",
     "output_type": "stream",
     "text": [
      "/usr/local/anaconda3/lib/python3.9/site-packages/lightgbm/sklearn.py:726: UserWarning: 'early_stopping_rounds' argument is deprecated and will be removed in a future release of LightGBM. Pass 'early_stopping()' callback via 'callbacks' argument instead.\n",
      "  _log_warning(\"'early_stopping_rounds' argument is deprecated and will be removed in a future release of LightGBM. \"\n",
      "/usr/local/anaconda3/lib/python3.9/site-packages/lightgbm/sklearn.py:736: UserWarning: 'verbose' argument is deprecated and will be removed in a future release of LightGBM. Pass 'log_evaluation()' callback via 'callbacks' argument instead.\n",
      "  _log_warning(\"'verbose' argument is deprecated and will be removed in a future release of LightGBM. \"\n"
     ]
    },
    {
     "name": "stdout",
     "output_type": "stream",
     "text": [
      "[100]\ttraining's auc: 0.775037\ttraining's binary_logloss: 0.244353\tvalid_1's auc: 0.75684\tvalid_1's binary_logloss: 0.248259\n",
      "[200]\ttraining's auc: 0.795119\ttraining's binary_logloss: 0.235838\tvalid_1's auc: 0.767682\tvalid_1's binary_logloss: 0.243605\n",
      "[300]\ttraining's auc: 0.809226\ttraining's binary_logloss: 0.230441\tvalid_1's auc: 0.771993\tvalid_1's binary_logloss: 0.242029\n",
      "[400]\ttraining's auc: 0.821213\ttraining's binary_logloss: 0.226\tvalid_1's auc: 0.774045\tvalid_1's binary_logloss: 0.241314\n",
      "[500]\ttraining's auc: 0.831851\ttraining's binary_logloss: 0.221982\tvalid_1's auc: 0.775336\tvalid_1's binary_logloss: 0.240855\n",
      "| \u001b[0m 24      \u001b[0m | \u001b[0m 0.7753  \u001b[0m | \u001b[0m 0.8324  \u001b[0m | \u001b[0m 52.63   \u001b[0m | \u001b[0m 14.54   \u001b[0m | \u001b[0m 100.8   \u001b[0m | \u001b[0m 22.84   \u001b[0m | \u001b[0m 59.28   \u001b[0m | \u001b[0m 25.3    \u001b[0m | \u001b[0m 7.74    \u001b[0m | \u001b[0m 0.9656  \u001b[0m |\n"
     ]
    },
    {
     "name": "stderr",
     "output_type": "stream",
     "text": [
      "/usr/local/anaconda3/lib/python3.9/site-packages/lightgbm/sklearn.py:726: UserWarning: 'early_stopping_rounds' argument is deprecated and will be removed in a future release of LightGBM. Pass 'early_stopping()' callback via 'callbacks' argument instead.\n",
      "  _log_warning(\"'early_stopping_rounds' argument is deprecated and will be removed in a future release of LightGBM. \"\n",
      "/usr/local/anaconda3/lib/python3.9/site-packages/lightgbm/sklearn.py:736: UserWarning: 'verbose' argument is deprecated and will be removed in a future release of LightGBM. Pass 'log_evaluation()' callback via 'callbacks' argument instead.\n",
      "  _log_warning(\"'verbose' argument is deprecated and will be removed in a future release of LightGBM. \"\n"
     ]
    },
    {
     "name": "stdout",
     "output_type": "stream",
     "text": [
      "[100]\ttraining's auc: 0.776271\ttraining's binary_logloss: 0.243958\tvalid_1's auc: 0.75758\tvalid_1's binary_logloss: 0.248096\n",
      "[200]\ttraining's auc: 0.79655\ttraining's binary_logloss: 0.23529\tvalid_1's auc: 0.768659\tvalid_1's binary_logloss: 0.243322\n",
      "[300]\ttraining's auc: 0.810931\ttraining's binary_logloss: 0.229754\tvalid_1's auc: 0.773073\tvalid_1's binary_logloss: 0.24172\n",
      "[400]\ttraining's auc: 0.823198\ttraining's binary_logloss: 0.225117\tvalid_1's auc: 0.775662\tvalid_1's binary_logloss: 0.240788\n",
      "[500]\ttraining's auc: 0.83395\ttraining's binary_logloss: 0.221041\tvalid_1's auc: 0.777132\tvalid_1's binary_logloss: 0.240289\n",
      "| \u001b[0m 25      \u001b[0m | \u001b[0m 0.7771  \u001b[0m | \u001b[0m 0.8504  \u001b[0m | \u001b[0m 433.1   \u001b[0m | \u001b[0m 15.23   \u001b[0m | \u001b[0m 154.8   \u001b[0m | \u001b[0m 16.52   \u001b[0m | \u001b[0m 57.73   \u001b[0m | \u001b[0m 8.9     \u001b[0m | \u001b[0m 9.122   \u001b[0m | \u001b[0m 0.8634  \u001b[0m |\n"
     ]
    },
    {
     "name": "stderr",
     "output_type": "stream",
     "text": [
      "/usr/local/anaconda3/lib/python3.9/site-packages/lightgbm/sklearn.py:726: UserWarning: 'early_stopping_rounds' argument is deprecated and will be removed in a future release of LightGBM. Pass 'early_stopping()' callback via 'callbacks' argument instead.\n",
      "  _log_warning(\"'early_stopping_rounds' argument is deprecated and will be removed in a future release of LightGBM. \"\n",
      "/usr/local/anaconda3/lib/python3.9/site-packages/lightgbm/sklearn.py:736: UserWarning: 'verbose' argument is deprecated and will be removed in a future release of LightGBM. Pass 'log_evaluation()' callback via 'callbacks' argument instead.\n",
      "  _log_warning(\"'verbose' argument is deprecated and will be removed in a future release of LightGBM. \"\n"
     ]
    },
    {
     "name": "stdout",
     "output_type": "stream",
     "text": [
      "[100]\ttraining's auc: 0.778186\ttraining's binary_logloss: 0.243845\tvalid_1's auc: 0.758979\tvalid_1's binary_logloss: 0.248088\n",
      "[200]\ttraining's auc: 0.797704\ttraining's binary_logloss: 0.234963\tvalid_1's auc: 0.768975\tvalid_1's binary_logloss: 0.243229\n",
      "[300]\ttraining's auc: 0.812543\ttraining's binary_logloss: 0.22923\tvalid_1's auc: 0.773547\tvalid_1's binary_logloss: 0.241558\n",
      "[400]\ttraining's auc: 0.825224\ttraining's binary_logloss: 0.224501\tvalid_1's auc: 0.775968\tvalid_1's binary_logloss: 0.240685\n",
      "[500]\ttraining's auc: 0.836292\ttraining's binary_logloss: 0.220316\tvalid_1's auc: 0.777551\tvalid_1's binary_logloss: 0.240127\n",
      "| \u001b[95m 26      \u001b[0m | \u001b[95m 0.7776  \u001b[0m | \u001b[95m 0.6088  \u001b[0m | \u001b[95m 448.7   \u001b[0m | \u001b[95m 15.26   \u001b[0m | \u001b[95m 134.5   \u001b[0m | \u001b[95m 17.88   \u001b[0m | \u001b[95m 56.37   \u001b[0m | \u001b[95m 14.85   \u001b[0m | \u001b[95m 5.48    \u001b[0m | \u001b[95m 0.7857  \u001b[0m |\n"
     ]
    },
    {
     "name": "stderr",
     "output_type": "stream",
     "text": [
      "/usr/local/anaconda3/lib/python3.9/site-packages/lightgbm/sklearn.py:726: UserWarning: 'early_stopping_rounds' argument is deprecated and will be removed in a future release of LightGBM. Pass 'early_stopping()' callback via 'callbacks' argument instead.\n",
      "  _log_warning(\"'early_stopping_rounds' argument is deprecated and will be removed in a future release of LightGBM. \"\n",
      "/usr/local/anaconda3/lib/python3.9/site-packages/lightgbm/sklearn.py:736: UserWarning: 'verbose' argument is deprecated and will be removed in a future release of LightGBM. Pass 'log_evaluation()' callback via 'callbacks' argument instead.\n",
      "  _log_warning(\"'verbose' argument is deprecated and will be removed in a future release of LightGBM. \"\n"
     ]
    },
    {
     "name": "stdout",
     "output_type": "stream",
     "text": [
      "[100]\ttraining's auc: 0.770614\ttraining's binary_logloss: 0.245446\tvalid_1's auc: 0.756111\tvalid_1's binary_logloss: 0.248442\n",
      "[200]\ttraining's auc: 0.789024\ttraining's binary_logloss: 0.23767\tvalid_1's auc: 0.767286\tvalid_1's binary_logloss: 0.243737\n",
      "[300]\ttraining's auc: 0.800902\ttraining's binary_logloss: 0.233092\tvalid_1's auc: 0.771668\tvalid_1's binary_logloss: 0.24211\n",
      "[400]\ttraining's auc: 0.81009\ttraining's binary_logloss: 0.22964\tvalid_1's auc: 0.773682\tvalid_1's binary_logloss: 0.241353\n",
      "[500]\ttraining's auc: 0.818602\ttraining's binary_logloss: 0.226472\tvalid_1's auc: 0.775556\tvalid_1's binary_logloss: 0.240726\n",
      "| \u001b[0m 27      \u001b[0m | \u001b[0m 0.7756  \u001b[0m | \u001b[0m 0.8719  \u001b[0m | \u001b[0m 449.5   \u001b[0m | \u001b[0m 8.409   \u001b[0m | \u001b[0m 64.2    \u001b[0m | \u001b[0m 32.31   \u001b[0m | \u001b[0m 42.56   \u001b[0m | \u001b[0m 49.45   \u001b[0m | \u001b[0m 7.164   \u001b[0m | \u001b[0m 0.8816  \u001b[0m |\n"
     ]
    },
    {
     "name": "stderr",
     "output_type": "stream",
     "text": [
      "/usr/local/anaconda3/lib/python3.9/site-packages/lightgbm/sklearn.py:726: UserWarning: 'early_stopping_rounds' argument is deprecated and will be removed in a future release of LightGBM. Pass 'early_stopping()' callback via 'callbacks' argument instead.\n",
      "  _log_warning(\"'early_stopping_rounds' argument is deprecated and will be removed in a future release of LightGBM. \"\n",
      "/usr/local/anaconda3/lib/python3.9/site-packages/lightgbm/sklearn.py:736: UserWarning: 'verbose' argument is deprecated and will be removed in a future release of LightGBM. Pass 'log_evaluation()' callback via 'callbacks' argument instead.\n",
      "  _log_warning(\"'verbose' argument is deprecated and will be removed in a future release of LightGBM. \"\n"
     ]
    },
    {
     "name": "stdout",
     "output_type": "stream",
     "text": [
      "[100]\ttraining's auc: 0.778972\ttraining's binary_logloss: 0.243165\tvalid_1's auc: 0.75843\tvalid_1's binary_logloss: 0.247778\n",
      "[200]\ttraining's auc: 0.80031\ttraining's binary_logloss: 0.234009\tvalid_1's auc: 0.769042\tvalid_1's binary_logloss: 0.243133\n",
      "[300]\ttraining's auc: 0.816052\ttraining's binary_logloss: 0.227925\tvalid_1's auc: 0.773593\tvalid_1's binary_logloss: 0.241462\n",
      "[400]\ttraining's auc: 0.829354\ttraining's binary_logloss: 0.222879\tvalid_1's auc: 0.776099\tvalid_1's binary_logloss: 0.240594\n",
      "[500]\ttraining's auc: 0.841123\ttraining's binary_logloss: 0.218383\tvalid_1's auc: 0.777284\tvalid_1's binary_logloss: 0.24014\n",
      "| \u001b[0m 28      \u001b[0m | \u001b[0m 0.7773  \u001b[0m | \u001b[0m 0.7425  \u001b[0m | \u001b[0m 451.4   \u001b[0m | \u001b[0m 15.55   \u001b[0m | \u001b[0m 126.2   \u001b[0m | \u001b[0m 24.37   \u001b[0m | \u001b[0m 62.57   \u001b[0m | \u001b[0m 22.14   \u001b[0m | \u001b[0m 6.783   \u001b[0m | \u001b[0m 0.7467  \u001b[0m |\n"
     ]
    },
    {
     "name": "stderr",
     "output_type": "stream",
     "text": [
      "/usr/local/anaconda3/lib/python3.9/site-packages/lightgbm/sklearn.py:726: UserWarning: 'early_stopping_rounds' argument is deprecated and will be removed in a future release of LightGBM. Pass 'early_stopping()' callback via 'callbacks' argument instead.\n",
      "  _log_warning(\"'early_stopping_rounds' argument is deprecated and will be removed in a future release of LightGBM. \"\n",
      "/usr/local/anaconda3/lib/python3.9/site-packages/lightgbm/sklearn.py:736: UserWarning: 'verbose' argument is deprecated and will be removed in a future release of LightGBM. Pass 'log_evaluation()' callback via 'callbacks' argument instead.\n",
      "  _log_warning(\"'verbose' argument is deprecated and will be removed in a future release of LightGBM. \"\n"
     ]
    },
    {
     "name": "stdout",
     "output_type": "stream",
     "text": [
      "[100]\ttraining's auc: 0.778241\ttraining's binary_logloss: 0.243862\tvalid_1's auc: 0.760175\tvalid_1's binary_logloss: 0.24783\n",
      "[200]\ttraining's auc: 0.797457\ttraining's binary_logloss: 0.235008\tvalid_1's auc: 0.769726\tvalid_1's binary_logloss: 0.242954\n",
      "[300]\ttraining's auc: 0.812191\ttraining's binary_logloss: 0.229352\tvalid_1's auc: 0.774143\tvalid_1's binary_logloss: 0.241295\n",
      "[400]\ttraining's auc: 0.824886\ttraining's binary_logloss: 0.224612\tvalid_1's auc: 0.776502\tvalid_1's binary_logloss: 0.240437\n",
      "[500]\ttraining's auc: 0.835659\ttraining's binary_logloss: 0.220499\tvalid_1's auc: 0.777928\tvalid_1's binary_logloss: 0.239939\n",
      "| \u001b[95m 29      \u001b[0m | \u001b[95m 0.7779  \u001b[0m | \u001b[95m 0.5288  \u001b[0m | \u001b[95m 298.4   \u001b[0m | \u001b[95m 14.09   \u001b[0m | \u001b[95m 182.4   \u001b[0m | \u001b[95m 37.65   \u001b[0m | \u001b[95m 54.36   \u001b[0m | \u001b[95m 7.913   \u001b[0m | \u001b[95m 3.01    \u001b[0m | \u001b[95m 0.7732  \u001b[0m |\n"
     ]
    },
    {
     "name": "stderr",
     "output_type": "stream",
     "text": [
      "/usr/local/anaconda3/lib/python3.9/site-packages/lightgbm/sklearn.py:726: UserWarning: 'early_stopping_rounds' argument is deprecated and will be removed in a future release of LightGBM. Pass 'early_stopping()' callback via 'callbacks' argument instead.\n",
      "  _log_warning(\"'early_stopping_rounds' argument is deprecated and will be removed in a future release of LightGBM. \"\n",
      "/usr/local/anaconda3/lib/python3.9/site-packages/lightgbm/sklearn.py:736: UserWarning: 'verbose' argument is deprecated and will be removed in a future release of LightGBM. Pass 'log_evaluation()' callback via 'callbacks' argument instead.\n",
      "  _log_warning(\"'verbose' argument is deprecated and will be removed in a future release of LightGBM. \"\n"
     ]
    },
    {
     "name": "stdout",
     "output_type": "stream",
     "text": [
      "[100]\ttraining's auc: 0.771096\ttraining's binary_logloss: 0.245213\tvalid_1's auc: 0.757144\tvalid_1's binary_logloss: 0.248184\n",
      "[200]\ttraining's auc: 0.790119\ttraining's binary_logloss: 0.237296\tvalid_1's auc: 0.767762\tvalid_1's binary_logloss: 0.243565\n",
      "[300]\ttraining's auc: 0.80154\ttraining's binary_logloss: 0.23285\tvalid_1's auc: 0.771849\tvalid_1's binary_logloss: 0.242007\n",
      "[400]\ttraining's auc: 0.810928\ttraining's binary_logloss: 0.229355\tvalid_1's auc: 0.774467\tvalid_1's binary_logloss: 0.241101\n",
      "[500]\ttraining's auc: 0.818607\ttraining's binary_logloss: 0.226514\tvalid_1's auc: 0.775923\tvalid_1's binary_logloss: 0.240616\n",
      "| \u001b[0m 30      \u001b[0m | \u001b[0m 0.7759  \u001b[0m | \u001b[0m 0.7962  \u001b[0m | \u001b[0m 309.4   \u001b[0m | \u001b[0m 7.089   \u001b[0m | \u001b[0m 194.4   \u001b[0m | \u001b[0m 35.83   \u001b[0m | \u001b[0m 40.28   \u001b[0m | \u001b[0m 5.876   \u001b[0m | \u001b[0m 1.207   \u001b[0m | \u001b[0m 0.6585  \u001b[0m |\n",
      "=====================================================================================================================================\n"
     ]
    }
   ],
   "source": [
    "lgb_BO = BayesianOptimization(f=lgb_roc_eval, pbounds=bayesian_params, random_state=0)\n",
    "lgb_BO.maximize(init_points=5, n_iter=25)"
   ]
  },
  {
   "cell_type": "code",
   "execution_count": 19,
   "metadata": {},
   "outputs": [
    {
     "name": "stdout",
     "output_type": "stream",
     "text": [
      "[0.7767775166083138, 0.7753234902998535, 0.7773659822337948, 0.7762755864013193, 0.7764662874121195, 0.7769144931629292, 0.7773323675172852, 0.7765998773976205, 0.7761438056570105, 0.7767908849787016, 0.7772510072592936, 0.7771381338002419, 0.7765177975731143, 0.7765200944675512, 0.7771203622546268, 0.7769612332174275, 0.7759039739788991, 0.7757087252441897, 0.7758943321052947, 0.7754516922729547, 0.7760323760963289, 0.7759695323656197, 0.7758817500161976, 0.7753360088510683, 0.7771318657881756, 0.7775506566764805, 0.7755556736054107, 0.7772844599542038, 0.7779281527067806, 0.7759228876179445]\n"
     ]
    },
    {
     "data": {
      "text/plain": [
       "28"
      ]
     },
     "execution_count": 19,
     "metadata": {},
     "output_type": "execute_result"
    }
   ],
   "source": [
    "target_list = [i['target'] for i in lgb_BO.res]\n",
    "print(target_list)\n",
    "np.argmax(target_list)\n"
   ]
  },
  {
   "cell_type": "code",
   "execution_count": 23,
   "metadata": {},
   "outputs": [
    {
     "data": {
      "text/plain": [
       "{'target': 0.7779281527067806,\n",
       " 'params': {'colsample_bytree': 0.5288123810873695,\n",
       "  'max_bin': 298.3632940551493,\n",
       "  'max_depth': 14.085247061998437,\n",
       "  'min_child_samples': 182.4305882973765,\n",
       "  'min_child_weight': 37.647486427741015,\n",
       "  'num_leaves': 54.35658240763554,\n",
       "  'reg_alpha': 7.912768101857651,\n",
       "  'reg_lambda': 3.0095185838236933,\n",
       "  'subsample': 0.773150758899048}}"
      ]
     },
     "execution_count": 23,
     "metadata": {},
     "output_type": "execute_result"
    }
   ],
   "source": [
    "max_dict = lgb_BO.res[np.argmax(target_list)]\n",
    "max_dict"
   ]
  },
  {
   "cell_type": "code",
   "execution_count": 24,
   "metadata": {},
   "outputs": [],
   "source": [
    "def train_apps_all(apps_all_train):\n",
    "    ftr_app = apps_all_train.drop(['SK_ID_CURR', 'TARGET'], axis=1)\n",
    "    target_app = apps_all_train['TARGET']\n",
    "\n",
    "    train_x, valid_x, train_y, valid_y = train_test_split(ftr_app, target_app, test_size=0.3, random_state=2020)\n",
    "    print('train shape:', train_x.shape, 'valid shape:', valid_x.shape)\n",
    "    clf = LGBMClassifier(\n",
    "                nthread=4,\n",
    "                n_estimators=2000,\n",
    "                learning_rate=0.01,\n",
    "                num_leaves=54,\n",
    "                colsample_bytree=0.528,\n",
    "                subsample=0.773,\n",
    "                max_depth=14,\n",
    "                reg_alpha=7.9,\n",
    "                reg_lambda=3.0,\n",
    "                min_child_samples=182,\n",
    "                min_child_weight=40,\n",
    "                max_bin=298,\n",
    "                silent=-1,\n",
    "                verbose=-1,\n",
    "                )\n",
    "\n",
    "    clf.fit(train_x, train_y, eval_set=[(train_x, train_y), (valid_x, valid_y)], eval_metric= 'auc', verbose= 100, \n",
    "                early_stopping_rounds= 100)\n",
    "    \n",
    "    return clf"
   ]
  },
  {
   "cell_type": "code",
   "execution_count": 25,
   "metadata": {},
   "outputs": [
    {
     "name": "stdout",
     "output_type": "stream",
     "text": [
      "train shape: (215257, 174) valid shape: (92254, 174)\n"
     ]
    },
    {
     "name": "stderr",
     "output_type": "stream",
     "text": [
      "/usr/local/anaconda3/lib/python3.9/site-packages/lightgbm/sklearn.py:598: UserWarning: 'silent' argument is deprecated and will be removed in a future release of LightGBM. Pass 'verbose' parameter via keyword arguments instead.\n",
      "  _log_warning(\"'silent' argument is deprecated and will be removed in a future release of LightGBM. \"\n",
      "/usr/local/anaconda3/lib/python3.9/site-packages/lightgbm/sklearn.py:726: UserWarning: 'early_stopping_rounds' argument is deprecated and will be removed in a future release of LightGBM. Pass 'early_stopping()' callback via 'callbacks' argument instead.\n",
      "  _log_warning(\"'early_stopping_rounds' argument is deprecated and will be removed in a future release of LightGBM. \"\n",
      "/usr/local/anaconda3/lib/python3.9/site-packages/lightgbm/sklearn.py:736: UserWarning: 'verbose' argument is deprecated and will be removed in a future release of LightGBM. Pass 'log_evaluation()' callback via 'callbacks' argument instead.\n",
      "  _log_warning(\"'verbose' argument is deprecated and will be removed in a future release of LightGBM. \"\n"
     ]
    },
    {
     "name": "stdout",
     "output_type": "stream",
     "text": [
      "[LightGBM] [Warning] num_threads is set with nthread=4, will be overridden by n_jobs=-1. Current value: num_threads=-1\n",
      "[100]\ttraining's auc: 0.766438\ttraining's binary_logloss: 0.253402\tvalid_1's auc: 0.75313\tvalid_1's binary_logloss: 0.255042\n",
      "[200]\ttraining's auc: 0.776961\ttraining's binary_logloss: 0.244537\tvalid_1's auc: 0.759403\tvalid_1's binary_logloss: 0.248198\n",
      "[300]\ttraining's auc: 0.786671\ttraining's binary_logloss: 0.239589\tvalid_1's auc: 0.765017\tvalid_1's binary_logloss: 0.245041\n",
      "[400]\ttraining's auc: 0.794819\ttraining's binary_logloss: 0.236041\tvalid_1's auc: 0.769007\tvalid_1's binary_logloss: 0.24325\n",
      "[500]\ttraining's auc: 0.802199\ttraining's binary_logloss: 0.233146\tvalid_1's auc: 0.771851\tvalid_1's binary_logloss: 0.242157\n",
      "[600]\ttraining's auc: 0.808497\ttraining's binary_logloss: 0.230725\tvalid_1's auc: 0.77368\tvalid_1's binary_logloss: 0.241471\n",
      "[700]\ttraining's auc: 0.814395\ttraining's binary_logloss: 0.228511\tvalid_1's auc: 0.775078\tvalid_1's binary_logloss: 0.240963\n",
      "[800]\ttraining's auc: 0.819935\ttraining's binary_logloss: 0.226423\tvalid_1's auc: 0.776119\tvalid_1's binary_logloss: 0.240583\n",
      "[900]\ttraining's auc: 0.825276\ttraining's binary_logloss: 0.224414\tvalid_1's auc: 0.77724\tvalid_1's binary_logloss: 0.24019\n",
      "[1000]\ttraining's auc: 0.83023\ttraining's binary_logloss: 0.222563\tvalid_1's auc: 0.77781\tvalid_1's binary_logloss: 0.239979\n",
      "[1100]\ttraining's auc: 0.83492\ttraining's binary_logloss: 0.220795\tvalid_1's auc: 0.778247\tvalid_1's binary_logloss: 0.23982\n",
      "[1200]\ttraining's auc: 0.839406\ttraining's binary_logloss: 0.219089\tvalid_1's auc: 0.778637\tvalid_1's binary_logloss: 0.239684\n",
      "[1300]\ttraining's auc: 0.843598\ttraining's binary_logloss: 0.217476\tvalid_1's auc: 0.778846\tvalid_1's binary_logloss: 0.239603\n",
      "[1400]\ttraining's auc: 0.847611\ttraining's binary_logloss: 0.215912\tvalid_1's auc: 0.779075\tvalid_1's binary_logloss: 0.239535\n",
      "[1500]\ttraining's auc: 0.851426\ttraining's binary_logloss: 0.214392\tvalid_1's auc: 0.779321\tvalid_1's binary_logloss: 0.239462\n",
      "[1600]\ttraining's auc: 0.85519\ttraining's binary_logloss: 0.212916\tvalid_1's auc: 0.779469\tvalid_1's binary_logloss: 0.239411\n",
      "[1700]\ttraining's auc: 0.858819\ttraining's binary_logloss: 0.211483\tvalid_1's auc: 0.779585\tvalid_1's binary_logloss: 0.239372\n",
      "[1800]\ttraining's auc: 0.86223\ttraining's binary_logloss: 0.210097\tvalid_1's auc: 0.779665\tvalid_1's binary_logloss: 0.239342\n",
      "[1900]\ttraining's auc: 0.865555\ttraining's binary_logloss: 0.208738\tvalid_1's auc: 0.779726\tvalid_1's binary_logloss: 0.239316\n",
      "[2000]\ttraining's auc: 0.868782\ttraining's binary_logloss: 0.207396\tvalid_1's auc: 0.779789\tvalid_1's binary_logloss: 0.239299\n"
     ]
    }
   ],
   "source": [
    "clf = train_apps_all(apps_all_train)"
   ]
  },
  {
   "cell_type": "code",
   "execution_count": 26,
   "metadata": {},
   "outputs": [],
   "source": [
    "preds = clf.predict_proba(apps_all_test.drop('SK_ID_CURR', axis=1))[:, 1]\n",
    "apps_all_test['TARGET'] = preds\n",
    "apps_all_test[['SK_ID_CURR', 'TARGET']].to_csv('prev_baseline_tuning_01.csv', index=False)"
   ]
  },
  {
   "cell_type": "code",
   "execution_count": null,
   "metadata": {},
   "outputs": [],
   "source": []
  }
 ],
 "metadata": {
  "interpreter": {
   "hash": "3067ead486e059ec00ffe7555bdb889e6e264a24dc711bf108106cc7baee8d5d"
  },
  "kernelspec": {
   "display_name": "Python 3.9.7 ('base')",
   "language": "python",
   "name": "python3"
  },
  "language_info": {
   "codemirror_mode": {
    "name": "ipython",
    "version": 3
   },
   "file_extension": ".py",
   "mimetype": "text/x-python",
   "name": "python",
   "nbconvert_exporter": "python",
   "pygments_lexer": "ipython3",
   "version": "3.9.7"
  },
  "orig_nbformat": 4
 },
 "nbformat": 4,
 "nbformat_minor": 2
}
