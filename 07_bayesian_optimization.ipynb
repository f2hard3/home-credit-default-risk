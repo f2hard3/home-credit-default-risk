{
 "cells": [
  {
   "cell_type": "code",
   "execution_count": 1,
   "metadata": {},
   "outputs": [],
   "source": [
    "def black_box_function(x, y):\n",
    "  return -x ** 2 - (y - 1) ** 2 + 1"
   ]
  },
  {
   "cell_type": "code",
   "execution_count": 2,
   "metadata": {},
   "outputs": [],
   "source": [
    "pbounds = { 'x': (2, 4), 'y': (-3, 3) }"
   ]
  },
  {
   "cell_type": "code",
   "execution_count": 4,
   "metadata": {},
   "outputs": [
    {
     "name": "stdout",
     "output_type": "stream",
     "text": [
      "|   iter    |  target   |     x     |     y     |\n",
      "-------------------------------------------------\n",
      "| \u001b[0m 1       \u001b[0m | \u001b[0m-7.135   \u001b[0m | \u001b[0m 2.834   \u001b[0m | \u001b[0m 1.322   \u001b[0m |\n",
      "| \u001b[0m 2       \u001b[0m | \u001b[0m-7.78    \u001b[0m | \u001b[0m 2.0     \u001b[0m | \u001b[0m-1.186   \u001b[0m |\n",
      "| \u001b[95m 3       \u001b[0m | \u001b[95m-7.11    \u001b[0m | \u001b[95m 2.218   \u001b[0m | \u001b[95m-0.7867  \u001b[0m |\n",
      "| \u001b[0m 4       \u001b[0m | \u001b[0m-12.4    \u001b[0m | \u001b[0m 3.66    \u001b[0m | \u001b[0m 0.9608  \u001b[0m |\n",
      "| \u001b[95m 5       \u001b[0m | \u001b[95m-6.999   \u001b[0m | \u001b[95m 2.23    \u001b[0m | \u001b[95m-0.7392  \u001b[0m |\n",
      "| \u001b[95m 6       \u001b[0m | \u001b[95m-3.047   \u001b[0m | \u001b[95m 2.0     \u001b[0m | \u001b[95m 0.783   \u001b[0m |\n",
      "| \u001b[0m 7       \u001b[0m | \u001b[0m-4.166   \u001b[0m | \u001b[0m 2.0     \u001b[0m | \u001b[0m 2.08    \u001b[0m |\n",
      "=================================================\n"
     ]
    }
   ],
   "source": [
    "from bayes_opt import BayesianOptimization\n",
    "\n",
    "optimizer = BayesianOptimization(f=black_box_function, pbounds=pbounds, random_state=1)\n",
    "\n",
    "optimizer.maximize(init_points=2, n_iter=5)"
   ]
  },
  {
   "cell_type": "code",
   "execution_count": 8,
   "metadata": {},
   "outputs": [
    {
     "name": "stdout",
     "output_type": "stream",
     "text": [
      "iteration count:  1281 max result:  -3.0 x value:  2.0 y value 1.0000000000000036\n"
     ]
    }
   ],
   "source": [
    "import numpy as np\n",
    "\n",
    "result = -9999\n",
    "x_val = -9999\n",
    "y_val = -9999\n",
    "iter_count = 0\n",
    "\n",
    "for x in np.arange(2, 4 + 0.1, 0.1):\n",
    "  for y in np.arange(-3, 3 + 0.1, 0.1):\n",
    "    current_result = black_box_function(x, y)\n",
    "    iter_count += 1\n",
    "    if current_result > result:\n",
    "      result = current_result\n",
    "      x_val = x\n",
    "      y_val = y\n",
    "\n",
    "print('iteration count: ', iter_count, 'max result: ', result, 'x value: ', x_val, 'y value', y_val)"
   ]
  },
  {
   "cell_type": "code",
   "execution_count": 9,
   "metadata": {},
   "outputs": [
    {
     "name": "stdout",
     "output_type": "stream",
     "text": [
      "|   iter    |  target   |     x     |     y     |\n",
      "-------------------------------------------------\n",
      "| \u001b[0m 1       \u001b[0m | \u001b[0m-708.4   \u001b[0m | \u001b[0m 17.85   \u001b[0m | \u001b[0m 20.77   \u001b[0m |\n",
      "| \u001b[95m 2       \u001b[0m | \u001b[95m-38.74   \u001b[0m | \u001b[95m 2.004   \u001b[0m | \u001b[95m 6.977   \u001b[0m |\n",
      "| \u001b[0m 3       \u001b[0m | \u001b[0m-52.3    \u001b[0m | \u001b[0m 3.172   \u001b[0m | \u001b[0m 7.576   \u001b[0m |\n",
      "| \u001b[0m 4       \u001b[0m | \u001b[0m-117.8   \u001b[0m | \u001b[0m 10.14   \u001b[0m | \u001b[0m-2.995   \u001b[0m |\n",
      "| \u001b[0m 5       \u001b[0m | \u001b[0m-1.615e+0\u001b[0m | \u001b[0m 40.0    \u001b[0m | \u001b[0m-3.0     \u001b[0m |\n",
      "| \u001b[0m 6       \u001b[0m | \u001b[0m-844.0   \u001b[0m | \u001b[0m 2.0     \u001b[0m | \u001b[0m 30.0    \u001b[0m |\n",
      "| \u001b[95m 7       \u001b[0m | \u001b[95m-19.0    \u001b[0m | \u001b[95m 2.0     \u001b[0m | \u001b[95m-3.0     \u001b[0m |\n",
      "| \u001b[0m 8       \u001b[0m | \u001b[0m-20.04   \u001b[0m | \u001b[0m 4.501   \u001b[0m | \u001b[0m 1.881   \u001b[0m |\n",
      "| \u001b[95m 9       \u001b[0m | \u001b[95m-3.086   \u001b[0m | \u001b[95m 2.0     \u001b[0m | \u001b[95m 1.294   \u001b[0m |\n",
      "| \u001b[0m 10      \u001b[0m | \u001b[0m-7.352   \u001b[0m | \u001b[0m 2.0     \u001b[0m | \u001b[0m 3.086   \u001b[0m |\n",
      "| \u001b[0m 11      \u001b[0m | \u001b[0m-3.835   \u001b[0m | \u001b[0m 2.0     \u001b[0m | \u001b[0m 0.08598 \u001b[0m |\n",
      "| \u001b[95m 12      \u001b[0m | \u001b[95m-3.011   \u001b[0m | \u001b[95m 2.0     \u001b[0m | \u001b[95m 1.102   \u001b[0m |\n",
      "=================================================\n"
     ]
    }
   ],
   "source": [
    "pbounds = { 'x': (2, 40), 'y': (-3, 30) }\n",
    "\n",
    "optimizer = BayesianOptimization(f=black_box_function, pbounds=pbounds, random_state=1)\n",
    "\n",
    "optimizer.maximize(init_points=2, n_iter=10)"
   ]
  },
  {
   "cell_type": "code",
   "execution_count": 10,
   "metadata": {},
   "outputs": [
    {
     "name": "stdout",
     "output_type": "stream",
     "text": [
      "iteration count:  126111 max result:  -3.0 x value:  2.0 y value 1.0000000000000036\n"
     ]
    }
   ],
   "source": [
    "import numpy as np\n",
    "\n",
    "result = -9999\n",
    "x_val = -9999\n",
    "y_val = -9999\n",
    "iter_count = 0\n",
    "\n",
    "for x in np.arange(2, 40 + 0.1, 0.1):\n",
    "  for y in np.arange(-3, 30 + 0.1, 0.1):\n",
    "    current_result = black_box_function(x, y)\n",
    "    iter_count += 1\n",
    "    if current_result > result:\n",
    "      result = current_result\n",
    "      x_val = x\n",
    "      y_val = y\n",
    "\n",
    "print('iteration count: ', iter_count, 'max result: ', result, 'x value: ', x_val, 'y value', y_val)"
   ]
  },
  {
   "cell_type": "code",
   "execution_count": null,
   "metadata": {},
   "outputs": [],
   "source": []
  }
 ],
 "metadata": {
  "interpreter": {
   "hash": "3067ead486e059ec00ffe7555bdb889e6e264a24dc711bf108106cc7baee8d5d"
  },
  "kernelspec": {
   "display_name": "Python 3.9.7 ('base')",
   "language": "python",
   "name": "python3"
  },
  "language_info": {
   "codemirror_mode": {
    "name": "ipython",
    "version": 3
   },
   "file_extension": ".py",
   "mimetype": "text/x-python",
   "name": "python",
   "nbconvert_exporter": "python",
   "pygments_lexer": "ipython3",
   "version": "3.9.7"
  },
  "orig_nbformat": 4
 },
 "nbformat": 4,
 "nbformat_minor": 2
}
